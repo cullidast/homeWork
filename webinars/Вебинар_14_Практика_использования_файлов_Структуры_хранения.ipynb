{
  "cells": [
    {
      "cell_type": "markdown",
      "metadata": {
        "id": "inA2Q8YwksRn"
      },
      "source": [
        "\n",
        "# Вебинар. Практика использования файлов. Структуры хранения"
      ]
    },
    {
      "cell_type": "markdown",
      "metadata": {
        "tags": [],
        "id": "AMujtHwzFNXk"
      },
      "source": [
        "## Проверка связи"
      ]
    },
    {
      "cell_type": "markdown",
      "metadata": {
        "id": "nJoeW0_GFNXn"
      },
      "source": [
        "**Если у вас нет звука:**\n",
        "- убедитесь, что на вашем устройстве\n",
        "и в колонках включён звук\n",
        "- обновите страницу вебинара или закройте страницу и заново присоединитесь к вебинару\n",
        "- откройте вебинар в другом браузере\n",
        "- перезагрузите ваше устройство\n",
        "и  попытайтесь войти снова"
      ]
    },
    {
      "cell_type": "markdown",
      "metadata": {
        "id": "rDpHoOgTFNXo"
      },
      "source": [
        "**Поставьте в чат:**<br>\n",
        "\\+ — если меня видно и слышно<br>\n",
        "– — если нет"
      ]
    },
    {
      "cell_type": "markdown",
      "metadata": {
        "id": "ICqAlaeqFNXp"
      },
      "source": [
        "## О спикере"
      ]
    },
    {
      "cell_type": "markdown",
      "metadata": {
        "tags": [],
        "id": "yWeRajlCFNXp"
      },
      "source": [
        "**Филипп Воронов**\n",
        "- тимлид в VK\n",
        "- преподаватель в Нетологии, Яндекс Практикуме, Университете ИТМО, GeekBrains, Computer Science Center, Bang Bang Education"
      ]
    },
    {
      "cell_type": "markdown",
      "metadata": {
        "id": "dvf3jbWrFNXq"
      },
      "source": [
        "## Правила участия"
      ]
    },
    {
      "cell_type": "markdown",
      "metadata": {
        "tags": [],
        "id": "RcmDI85BFNXr"
      },
      "source": [
        "1. Продолжительность вебинара — 80 минут. Через 40 минут сделаем перерыв на 5 минут\n",
        "2. Запустите Jupyter Notebook / Google Colab / IDE для выполнения практических заданий вебинара. Во время демонстрации работы повторяйте за спикером: так вы лучше поймёте материал\n",
        "3. Вопросы и уточнения:\n",
        "  - создайте копию этого блокнота, чтобы фиксировать вопросы и важную информацию во время занятия\n",
        "  - вы можете писать вопросы в чате во время вебинара или озвучивать их в блоке «Ваши вопросы»\n",
        "4. Запись вебинара будет доступна в личном кабинете"
      ]
    },
    {
      "cell_type": "markdown",
      "metadata": {
        "id": "JFQrFju9ksRu"
      },
      "source": [
        "## Цель занятия"
      ]
    },
    {
      "cell_type": "markdown",
      "metadata": {
        "id": "p8Pbfc0eksRv",
        "tags": []
      },
      "source": [
        "Расширить знания по практике использования файлов"
      ]
    },
    {
      "cell_type": "markdown",
      "metadata": {
        "id": "y0L-W3AYksRv"
      },
      "source": [
        "## План занятия"
      ]
    },
    {
      "cell_type": "markdown",
      "metadata": {
        "id": "nUBc6G7rksRv"
      },
      "source": [
        "[1. Файлы](#1.-Файлы)<br>\n",
        "[2. Контекстный менеджер](#2.-Контекстный-менеджер)<br>\n",
        "[3. Модуль pickle](#3.-Модуль-pickle)<br>\n",
        "[4. Чтение файлов из папки](#4.-Чтение-файлов-из-папки)<br>"
      ]
    },
    {
      "cell_type": "markdown",
      "metadata": {
        "id": "CxE3zVrXksRv"
      },
      "source": [
        "## Ваши вопросы"
      ]
    },
    {
      "cell_type": "markdown",
      "metadata": {
        "id": "yvWq9j9zksRv"
      },
      "source": [
        "## 1. Файлы\n",
        "- Обработать первые N строк файла\n",
        "- Прочитать файл из другой папки\n",
        "- Пример группировки большого файла cards.csv\n",
        "- Формат JSON\n",
        "- Кодировки файлов"
      ]
    },
    {
      "cell_type": "markdown",
      "metadata": {
        "id": "2PaRN0kqDtOe"
      },
      "source": [
        "Опции при открытии файлов\n",
        "- 'r' — открыть для чтения. Файл при этом не меняется\n",
        "- 'w' — открыть файл для записи. Файл при этом полностью чистится (!)\n",
        "- 'a' — открыть файл для добавления. Файл не меняется, все записи добавляются в конец"
      ]
    },
    {
      "cell_type": "code",
      "execution_count": null,
      "metadata": {
        "id": "twk-c5doDtOe"
      },
      "outputs": [],
      "source": [
        "# Открываем файл для чтения (опция r)\n",
        "f = open('visit_log.csv', 'r')"
      ]
    },
    {
      "cell_type": "code",
      "execution_count": null,
      "metadata": {
        "id": "2C8iNc2BDtOf"
      },
      "outputs": [],
      "source": [
        "# Прочитать первую строчку\n",
        "f.readline()"
      ]
    },
    {
      "cell_type": "code",
      "execution_count": null,
      "metadata": {
        "id": "pMr8J6P6DtOf"
      },
      "outputs": [],
      "source": [
        "# Прочитать ещё одну\n",
        "f.readline()"
      ]
    },
    {
      "cell_type": "code",
      "execution_count": null,
      "metadata": {
        "id": "WpCbd6eSDtOg"
      },
      "outputs": [],
      "source": [
        "# Можно и так\n",
        "next(f)"
      ]
    },
    {
      "cell_type": "code",
      "execution_count": null,
      "metadata": {
        "id": "D61crFOFDtOg"
      },
      "outputs": [],
      "source": [
        "# Прочитать всё содержимое файла в переменную content\n",
        "content = f.readlines()"
      ]
    },
    {
      "cell_type": "code",
      "execution_count": null,
      "metadata": {
        "id": "DAxErF7KDtOg"
      },
      "outputs": [],
      "source": [
        "content[:5]"
      ]
    },
    {
      "cell_type": "code",
      "execution_count": null,
      "metadata": {
        "id": "yMNhnca0DtOg"
      },
      "outputs": [],
      "source": [
        "# Построчное чтение файла\n",
        "for line in f:\n",
        "    print(line)\n",
        "\n",
        "    break"
      ]
    },
    {
      "cell_type": "markdown",
      "metadata": {
        "id": "7LQYEiGfDtOh"
      },
      "source": [
        "Часто используется конструкция\n",
        "```python\n",
        "another_line.strip().split(',')\n",
        "```"
      ]
    },
    {
      "cell_type": "code",
      "execution_count": null,
      "metadata": {
        "id": "m0_TVEWkDtOh"
      },
      "outputs": [],
      "source": [
        "another_line = f.readline()\n",
        "another_line"
      ]
    },
    {
      "cell_type": "code",
      "execution_count": null,
      "metadata": {
        "id": "agWraPlhDtOh"
      },
      "outputs": [],
      "source": [
        "# Удаляем перенос строки и лишние пробелы\n",
        "another_line.strip()"
      ]
    },
    {
      "cell_type": "code",
      "execution_count": null,
      "metadata": {
        "id": "kYpTWLGFDtOh"
      },
      "outputs": [],
      "source": [
        "# Разбиваем столбцы\n",
        "another_line.strip().split(',')"
      ]
    },
    {
      "cell_type": "code",
      "execution_count": null,
      "metadata": {
        "id": "xkorbOuCDtOh"
      },
      "outputs": [],
      "source": [
        "# Закрытие файла\n",
        "f.close()"
      ]
    },
    {
      "cell_type": "code",
      "execution_count": null,
      "metadata": {
        "id": "g7SM62W3DtOi"
      },
      "outputs": [],
      "source": [
        "# После закрытия не получится прочитать\n",
        "f.readline()"
      ]
    },
    {
      "cell_type": "code",
      "execution_count": null,
      "metadata": {
        "id": "9-_6OuI-DtOi"
      },
      "outputs": [],
      "source": [
        "# Прочитать все строчки файла в список, т. е. в оперативную память\n",
        "f = open('visit_log.csv', 'r')\n",
        "\n",
        "content = f.readlines()\n",
        "\n",
        "f.close()"
      ]
    },
    {
      "cell_type": "code",
      "execution_count": null,
      "metadata": {
        "id": "ndJgcIq0DtOi"
      },
      "outputs": [],
      "source": [
        "content[:5]"
      ]
    },
    {
      "cell_type": "code",
      "execution_count": null,
      "metadata": {
        "id": "_3o8gyXeDtOi"
      },
      "outputs": [],
      "source": [
        "f = open('results.csv', 'w')"
      ]
    },
    {
      "cell_type": "code",
      "execution_count": null,
      "metadata": {
        "id": "oVxIck3JDtOi"
      },
      "outputs": [],
      "source": [
        "f.write('Начинаю запись первой строки...\\n')"
      ]
    },
    {
      "cell_type": "code",
      "execution_count": null,
      "metadata": {
        "id": "G9dXGqpEDtOj"
      },
      "outputs": [],
      "source": [
        "f.write('Начинаю запись второй строки...\\n')"
      ]
    },
    {
      "cell_type": "code",
      "execution_count": null,
      "metadata": {
        "id": "PvfSCEwvDtOj"
      },
      "outputs": [],
      "source": [
        "my_friend_results = open('results.csv', 'w')"
      ]
    },
    {
      "cell_type": "code",
      "execution_count": null,
      "metadata": {
        "id": "afdu6Kt3DtOj"
      },
      "outputs": [],
      "source": [
        "my_friend_results.write('Тут еще результаты есть')"
      ]
    },
    {
      "cell_type": "code",
      "execution_count": null,
      "metadata": {
        "id": "tURyb8EoDtOo"
      },
      "outputs": [],
      "source": [
        "# Пишем свой результат\n",
        "f.close()"
      ]
    },
    {
      "cell_type": "code",
      "execution_count": null,
      "metadata": {
        "id": "8La7YXj4DtOo"
      },
      "outputs": [],
      "source": [
        "# И наш результат перезатирается\n",
        "my_friend_results.close()"
      ]
    },
    {
      "cell_type": "markdown",
      "metadata": {
        "id": "vbNBIA_eDtOp"
      },
      "source": [
        "## Ваши вопросы"
      ]
    },
    {
      "cell_type": "markdown",
      "metadata": {
        "id": "PiZFJIeGDtOp"
      },
      "source": [
        "## 2. Контекстный менеджер"
      ]
    },
    {
      "cell_type": "code",
      "execution_count": null,
      "metadata": {
        "id": "ou2R1IYqDtOp"
      },
      "outputs": [],
      "source": [
        "with open('results.csv', 'w') as f:\n",
        "    f.write('Начинаю запись первой строки...\\n')\n",
        "    f.write('Начинаю запись второй строки...\\n')\n",
        "\n",
        "    my_friend_results = open('results.csv', 'w')\n",
        "    my_friend_results.write('Тут еще результаты есть')\n",
        "    my_friend_results.close()"
      ]
    },
    {
      "cell_type": "code",
      "execution_count": null,
      "metadata": {
        "id": "M9Ufwzs8DtOq"
      },
      "outputs": [],
      "source": [
        "# Чтение списков и словарей из файла\n",
        "Смотрим, что в файле purchase_log.txt. Похоже, тут не строки, а словари"
      ]
    },
    {
      "cell_type": "code",
      "execution_count": null,
      "metadata": {
        "id": "CleRk2ucDtOq"
      },
      "outputs": [],
      "source": [
        "with open('purchase_log.txt') as f:\n",
        "    print([next(f) for x in range(5)])"
      ]
    },
    {
      "cell_type": "code",
      "execution_count": null,
      "metadata": {
        "id": "wVFQWDPtDtOq"
      },
      "outputs": [],
      "source": [
        "import json"
      ]
    },
    {
      "cell_type": "code",
      "execution_count": null,
      "metadata": {
        "id": "9VNXprDYDtOq"
      },
      "outputs": [],
      "source": [
        "# Перевод строки в словарь\n",
        "dict_in_string = '{\"a\": 1, \"b\": 2}'\n",
        "\n",
        "type(json.loads(dict_in_string))"
      ]
    },
    {
      "cell_type": "code",
      "execution_count": null,
      "metadata": {
        "id": "3TPAOa8-DtOq"
      },
      "outputs": [],
      "source": [
        "# Перевод строки в список\n",
        "list_in_string = '[1, 2, 3]'\n",
        "\n",
        "json.loads(list_in_string)[-1]"
      ]
    },
    {
      "cell_type": "code",
      "execution_count": null,
      "metadata": {
        "id": "Z0HWUhyGDtOr"
      },
      "outputs": [],
      "source": [
        "i = 0\n",
        "with open('purchase_log.txt') as f:\n",
        "    for line in f:\n",
        "        line = line.strip()\n",
        "\n",
        "        dict_ = json.loads(line)\n",
        "        print(dict_, type(dict_))\n",
        "\n",
        "        i += 1\n",
        "        if i > 5:\n",
        "            break"
      ]
    },
    {
      "cell_type": "code",
      "execution_count": null,
      "metadata": {
        "id": "roXz5xerDtOr"
      },
      "outputs": [],
      "source": [
        "data = {'user_id': '1840e0b9d4', 'category': 'Продукты'}"
      ]
    },
    {
      "cell_type": "code",
      "execution_count": null,
      "metadata": {
        "id": "TAvHbGdrDtOr"
      },
      "outputs": [],
      "source": [
        "json.dumps(data)"
      ]
    },
    {
      "cell_type": "code",
      "execution_count": null,
      "metadata": {
        "id": "cTj6VZGUDtOr"
      },
      "outputs": [],
      "source": [
        "type(json.dumps(data))"
      ]
    },
    {
      "cell_type": "markdown",
      "metadata": {
        "id": "j9iqrPAWDtOs"
      },
      "source": [
        "## Ваши вопросы"
      ]
    },
    {
      "cell_type": "markdown",
      "metadata": {
        "tags": [],
        "id": "nyN-ZRjaDtOs"
      },
      "source": [
        "## 3. Модуль pickle"
      ]
    },
    {
      "cell_type": "markdown",
      "metadata": {
        "id": "Ablko-q9DtOs"
      },
      "source": [
        "Запись объекта сразу в файл как поток байтов"
      ]
    },
    {
      "cell_type": "code",
      "execution_count": null,
      "metadata": {
        "id": "Q-v2NthNDtOs"
      },
      "outputs": [],
      "source": [
        "import pickle"
      ]
    },
    {
      "cell_type": "code",
      "execution_count": null,
      "metadata": {
        "id": "EOnppHGNDtOs"
      },
      "outputs": [],
      "source": [
        "data = {'user_id': '1840e0b9d4', 'category': 'Продукты'}"
      ]
    },
    {
      "cell_type": "code",
      "execution_count": null,
      "metadata": {
        "id": "6vfjYEcmDtOt"
      },
      "outputs": [],
      "source": [
        "with open('data.pickle', 'wb') as f:\n",
        "    pickle.dump(data, f)"
      ]
    },
    {
      "cell_type": "code",
      "execution_count": null,
      "metadata": {
        "id": "Jw1qsrdJDtOt"
      },
      "outputs": [],
      "source": [
        "# Прочитать объект из такого файла\n",
        "\n",
        "with open('data.pickle', 'rb') as f:\n",
        "    dict_ = pickle.load(f)\n",
        "\n",
        "dict_, dict_['user_id']"
      ]
    },
    {
      "cell_type": "markdown",
      "metadata": {
        "id": "kr8R5tfXDtOu"
      },
      "source": [
        "## Ваши вопросы"
      ]
    },
    {
      "cell_type": "markdown",
      "metadata": {
        "id": "C02apawiDtOu"
      },
      "source": [
        "## 4. Чтение файлов из папки"
      ]
    },
    {
      "cell_type": "code",
      "execution_count": null,
      "metadata": {
        "id": "UW007zdsDtOu"
      },
      "outputs": [],
      "source": [
        "import os"
      ]
    },
    {
      "cell_type": "code",
      "execution_count": null,
      "metadata": {
        "id": "-3ilyhjMDtOu"
      },
      "outputs": [],
      "source": [
        "# Чтение файлов и папок\n",
        "for file in os.listdir('data'):\n",
        "    print(file)"
      ]
    },
    {
      "cell_type": "code",
      "execution_count": null,
      "metadata": {
        "id": "KlNo_K4VDtOu"
      },
      "outputs": [],
      "source": [
        "# Чтение всех файлов и папок, в том числе вложенных\n",
        "for root, directory, file in os.walk('data'):\n",
        "    print(root, directory, file)"
      ]
    },
    {
      "cell_type": "markdown",
      "metadata": {
        "id": "RiNMa1w2UCgR"
      },
      "source": [
        "## Ваши вопросы"
      ]
    },
    {
      "cell_type": "markdown",
      "metadata": {
        "id": "ZWZHkthZksSD"
      },
      "source": [
        "## Итоги занятия"
      ]
    },
    {
      "cell_type": "markdown",
      "metadata": {
        "id": "R9UkNLL_ksSD"
      },
      "source": [
        "Расширили знания по практике использования файлов"
      ]
    },
    {
      "cell_type": "markdown",
      "metadata": {
        "id": "iHa09MJ9ksSD",
        "tags": []
      },
      "source": [
        "## Ваши вопросы"
      ]
    },
    {
      "cell_type": "markdown",
      "source": [
        "# Анонс следующего занятия"
      ],
      "metadata": {
        "id": "aO0iq1FxsdFC"
      }
    },
    {
      "cell_type": "markdown",
      "source": [
        "Вебинар. Практика создания структур хранения, виды баз данных"
      ],
      "metadata": {
        "id": "iubc74wcseiP"
      }
    }
  ],
  "metadata": {
    "colab": {
      "provenance": []
    },
    "kernelspec": {
      "display_name": "Python 3",
      "language": "python",
      "name": "python3"
    },
    "language_info": {
      "codemirror_mode": {
        "name": "ipython",
        "version": 3
      },
      "file_extension": ".py",
      "mimetype": "text/x-python",
      "name": "python",
      "nbconvert_exporter": "python",
      "pygments_lexer": "ipython3",
      "version": "3.7.2"
    }
  },
  "nbformat": 4,
  "nbformat_minor": 0
}