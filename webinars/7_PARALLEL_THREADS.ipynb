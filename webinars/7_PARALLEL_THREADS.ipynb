{
 "cells": [
  {
   "cell_type": "markdown",
   "id": "a1c5cd25-d43b-47a3-9726-c5566004dab7",
   "metadata": {},
   "source": [
    "# Параллельные вычисления, потоки"
   ]
  },
  {
   "cell_type": "markdown",
   "id": "991818c7-f8f6-47cf-8400-3d8d8e6a573b",
   "metadata": {},
   "source": [
    "# Инциализация потока"
   ]
  },
  {
   "cell_type": "code",
   "execution_count": 1,
   "id": "349167af-ee88-48dd-bc98-15046d7e0d97",
   "metadata": {},
   "outputs": [
    {
     "name": "stdout",
     "output_type": "stream",
     "text": [
      "Поток завершается\n",
      "Поток завершается\n"
     ]
    }
   ],
   "source": [
    "import threading\n",
    "import time\n",
    "\n",
    "var_i = None\n",
    "def worker():\n",
    "    global var_i\n",
    "    while True:\n",
    "        if var_i is not None:\n",
    "            print(\"Поток завершается\")\n",
    "            break # Завершение потока\n",
    "###################################\n",
    "t = threading.Thread(target=worker)\n",
    "t.start()\n",
    "t2 = threading.Thread(target=worker)\n",
    "t2.start()\n",
    "time.sleep(2)\n",
    "var_i = 1\n"
   ]
  },
  {
   "cell_type": "markdown",
   "id": "c01070de-8e27-4fa8-ac0f-562638d22fcb",
   "metadata": {},
   "source": [
    "# Демонстрация JOIN"
   ]
  },
  {
   "cell_type": "code",
   "execution_count": null,
   "id": "c5ed27bf-ce9d-4b10-b097-25fc8e65d880",
   "metadata": {},
   "outputs": [],
   "source": [
    "import threading\n",
    "import time\n",
    "\n",
    "var_i = None\n",
    "def worker():\n",
    "    global var_i\n",
    "    while True:\n",
    "        if var_i is not None:\n",
    "            print(\"Поток завершается\")\n",
    "            break # Завершение потока\n",
    "###################################\n",
    "t = threading.Thread(target=worker)\n",
    "t.start()\n",
    "t2 = threading.Thread(target=worker)\n",
    "t2.start()\n",
    "t.join()\n",
    "time.sleep(2)\n",
    "var_i = 1\n"
   ]
  },
  {
   "cell_type": "markdown",
   "id": "89d40132-08c0-4714-b797-42249eb27fad",
   "metadata": {},
   "source": [
    "# Инициализация потока и передача параметров"
   ]
  },
  {
   "cell_type": "code",
   "execution_count": 1,
   "id": "35bab7ad-2b7e-49d6-bce4-c8d76eefcfa4",
   "metadata": {},
   "outputs": [
    {
     "name": "stdout",
     "output_type": "stream",
     "text": [
      "Поток завершается\n",
      "Поток завершается\n"
     ]
    }
   ],
   "source": [
    "import threading\n",
    "import time\n",
    "\n",
    "var_i = None\n",
    "def worker(in_var=1234):\n",
    "    global var_i\n",
    "    while True:\n",
    "        if var_i is not None:\n",
    "            print(\"Поток завершается\")\n",
    "            break # Завершение потока\n",
    "###################################\n",
    "t = threading.Thread(target=worker, args=[], kwargs={\"in_var\":123})\n",
    "t.start()\n",
    "t2 = threading.Thread(target=worker)\n",
    "t2.start()\n",
    "time.sleep(2)\n",
    "var_i = 1"
   ]
  },
  {
   "cell_type": "markdown",
   "id": "de3114ec-0ea8-4941-b460-6307ea4a6ded",
   "metadata": {},
   "source": [
    "# Демонстрация mutable и immutable"
   ]
  },
  {
   "cell_type": "markdown",
   "id": "83e8de4c-0c68-496f-bab3-bac7bde0c658",
   "metadata": {},
   "source": [
    "## MUTABLE"
   ]
  },
  {
   "cell_type": "code",
   "execution_count": 2,
   "id": "c5727c8b-cc63-4f77-b4b1-b00f3efa8fa8",
   "metadata": {
    "tags": []
   },
   "outputs": [
    {
     "name": "stdout",
     "output_type": "stream",
     "text": [
      "Поток завершается\n",
      "Поток завершается\n"
     ]
    }
   ],
   "source": [
    "import threading\n",
    "import time\n",
    "\n",
    "def worker(in_var):\n",
    "    while True:\n",
    "        if in_var[\"in_var\"] is not None:\n",
    "            print(\"Поток завершается\")\n",
    "            break # Завершение потока\n",
    "###################################\n",
    "in_var = {\"in_var\":None}\n",
    "t = threading.Thread(target=worker, args=[], kwargs={\"in_var\":in_var})\n",
    "t.start()\n",
    "t2 = threading.Thread(target=worker, args=[in_var], kwargs={})\n",
    "t2.start()\n",
    "time.sleep(2)\n",
    "in_var[\"in_var\"]=123"
   ]
  },
  {
   "cell_type": "markdown",
   "id": "4b41b6fc-e540-461e-8bfc-305ae02f8f64",
   "metadata": {},
   "source": [
    "## IMMUTABLE"
   ]
  },
  {
   "cell_type": "code",
   "execution_count": null,
   "id": "73a7d670-2bb8-4f01-92d8-83785f05f878",
   "metadata": {
    "tags": []
   },
   "outputs": [],
   "source": [
    "import threading\n",
    "import time\n",
    "\n",
    "def worker(in_var):\n",
    "    while True:\n",
    "        if in_var is not None:\n",
    "            print(\"Поток завершается\")\n",
    "            break # Завершение потока\n",
    "###################################\n",
    "in_var = None\n",
    "t = threading.Thread(target=worker, args=[], kwargs={\"in_var\":in_var})\n",
    "t.start()\n",
    "t2 = threading.Thread(target=worker, args=[in_var], kwargs={})\n",
    "t2.start()\n",
    "time.sleep(2)\n",
    "in_var=123"
   ]
  },
  {
   "cell_type": "code",
   "execution_count": null,
   "id": "cca3130d-d2cb-4dba-a65f-35e5cf9d92fe",
   "metadata": {},
   "outputs": [],
   "source": []
  }
 ],
 "metadata": {
  "kernelspec": {
   "display_name": "Python 3",
   "language": "python",
   "name": "python3"
  },
  "language_info": {
   "codemirror_mode": {
    "name": "ipython",
    "version": 3
   },
   "file_extension": ".py",
   "mimetype": "text/x-python",
   "name": "python",
   "nbconvert_exporter": "python",
   "pygments_lexer": "ipython3",
   "version": "3.7.2"
  }
 },
 "nbformat": 4,
 "nbformat_minor": 5
}
