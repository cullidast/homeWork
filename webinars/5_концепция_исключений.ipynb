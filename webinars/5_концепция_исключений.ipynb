{
 "cells": [
  {
   "cell_type": "code",
   "execution_count": 1,
   "id": "169d68e6-2579-4b97-bef6-8a1653c0c972",
   "metadata": {
    "tags": []
   },
   "outputs": [
    {
     "data": {
      "text/plain": [
       "{'ver_str': '1.5.0',\n",
       " 'bank_token_str': '1AB-9CD2E3-12A/1320C929',\n",
       " 'license_hour_bool': False}"
      ]
     },
     "execution_count": 1,
     "metadata": {},
     "output_type": "execute_result"
    }
   ],
   "source": [
    "from pyOpenRPA.Utils import __define__\n",
    "__define__.DEFINE_USER"
   ]
  },
  {
   "cell_type": "code",
   "execution_count": 13,
   "id": "a4e42e43-07b4-40d3-820b-484208137380",
   "metadata": {
    "tags": []
   },
   "outputs": [
    {
     "name": "stdout",
     "output_type": "stream",
     "text": [
      "Coordinates of the fourth point: -4.02786404500042 -3.23606797749979\n"
     ]
    }
   ],
   "source": [
    "import math\n",
    "def find_fourth_point_with_squared_lengths(x1, y1, x2, y2, x3, y3, d1, d2, d3):\n",
    "    d12 = (x2 - x1) ** 2 + (y2 - y1) ** 2\n",
    "    d23 = (x3 - x2) ** 2 + (y3 - y2) ** 2\n",
    "    d31 = (x1 - x3) ** 2 + (y1 - y3) ** 2\n",
    "    d14 = (d12 + d23 + d31 - 2 * math.sqrt(d12 * d23) - 2 * math.sqrt(d23 * d31) - 2 * math.sqrt(d31 * d12)) / 2\n",
    "    x4 = (d14 * (y1 - y2) + d23 * (y1 - y3) + d31 * (y2 - y3)) / (2 * (x1 - x2) * (y1 - y3) - 2 * (x1 - x3) * (y1 - y2))\n",
    "    y4 = (d14 * (x1 - x2) + d23 * (x1 - x3) + d31 * (x2 - x3)) / (2 * (y1 - y2) * (x1 - x3) - 2 * (y1 - y3) * (x1 - x2))\n",
    "    return x4, y4\n",
    "\n",
    "x1, y1, x2, y2, x3, y3, d1, d2, d3 = 0,0,1,2,0,4,1,1,9\n",
    "x4, y4 = find_fourth_point_with_squared_lengths(x1, y1, x2, y2, x3, y3, d1, d2, d3)\n",
    "print(\"Coordinates of the fourth point:\", x4, y4)"
   ]
  },
  {
   "cell_type": "code",
   "execution_count": 22,
   "id": "1f107b68-bc03-4a64-8f69-074bc00b4cc6",
   "metadata": {
    "tags": []
   },
   "outputs": [
    {
     "ename": "TypeError",
     "evalue": "unsupported operand type(s) for ^: 'float' and 'float'",
     "output_type": "error",
     "traceback": [
      "\u001b[1;31m---------------------------------------------------------------------------\u001b[0m",
      "\u001b[1;31mTypeError\u001b[0m                                 Traceback (most recent call last)",
      "\u001b[1;32m<ipython-input-22-974b58b8c97c>\u001b[0m in \u001b[0;36m<module>\u001b[1;34m\u001b[0m\n\u001b[0;32m     29\u001b[0m \u001b[1;33m\u001b[0m\u001b[0m\n\u001b[0;32m     30\u001b[0m \u001b[0mx1\u001b[0m\u001b[1;33m,\u001b[0m \u001b[0my1\u001b[0m\u001b[1;33m,\u001b[0m \u001b[0mx2\u001b[0m\u001b[1;33m,\u001b[0m \u001b[0my2\u001b[0m\u001b[1;33m,\u001b[0m \u001b[0mx3\u001b[0m\u001b[1;33m,\u001b[0m \u001b[0my3\u001b[0m\u001b[1;33m,\u001b[0m \u001b[0md1\u001b[0m\u001b[1;33m,\u001b[0m \u001b[0md2\u001b[0m\u001b[1;33m,\u001b[0m \u001b[0md3\u001b[0m \u001b[1;33m=\u001b[0m \u001b[1;36m0\u001b[0m\u001b[1;33m,\u001b[0m\u001b[1;36m0\u001b[0m\u001b[1;33m,\u001b[0m\u001b[1;36m1\u001b[0m\u001b[1;33m,\u001b[0m\u001b[1;36m0\u001b[0m\u001b[1;33m,\u001b[0m\u001b[1;36m1\u001b[0m\u001b[1;33m,\u001b[0m\u001b[1;36m4\u001b[0m\u001b[1;33m,\u001b[0m\u001b[1;36m1\u001b[0m\u001b[1;33m,\u001b[0m\u001b[1;36m1\u001b[0m\u001b[1;33m,\u001b[0m\u001b[1;36m3\u001b[0m\u001b[1;33m\u001b[0m\u001b[1;33m\u001b[0m\u001b[0m\n\u001b[1;32m---> 31\u001b[1;33m \u001b[0mfind_fourth_point_with_circle_intersection\u001b[0m\u001b[1;33m(\u001b[0m\u001b[0mx1\u001b[0m\u001b[1;33m,\u001b[0m \u001b[0my1\u001b[0m\u001b[1;33m,\u001b[0m \u001b[0mx2\u001b[0m\u001b[1;33m,\u001b[0m \u001b[0my2\u001b[0m\u001b[1;33m,\u001b[0m \u001b[0mx3\u001b[0m\u001b[1;33m,\u001b[0m \u001b[0my3\u001b[0m\u001b[1;33m,\u001b[0m \u001b[0md1\u001b[0m\u001b[1;33m,\u001b[0m \u001b[0md2\u001b[0m\u001b[1;33m,\u001b[0m \u001b[0md3\u001b[0m\u001b[1;33m)\u001b[0m\u001b[1;33m\u001b[0m\u001b[1;33m\u001b[0m\u001b[0m\n\u001b[0m",
      "\u001b[1;32m<ipython-input-22-974b58b8c97c>\u001b[0m in \u001b[0;36mfind_fourth_point_with_circle_intersection\u001b[1;34m(x1, y1, x2, y2, x3, y3, d1, d2, d3)\u001b[0m\n\u001b[0;32m     10\u001b[0m     \u001b[0mxc3\u001b[0m \u001b[1;33m=\u001b[0m \u001b[1;33m(\u001b[0m\u001b[0mx3\u001b[0m \u001b[1;33m+\u001b[0m \u001b[0mx1\u001b[0m\u001b[1;33m)\u001b[0m \u001b[1;33m/\u001b[0m \u001b[1;36m2\u001b[0m\u001b[1;33m\u001b[0m\u001b[1;33m\u001b[0m\u001b[0m\n\u001b[0;32m     11\u001b[0m     \u001b[0myc3\u001b[0m \u001b[1;33m=\u001b[0m \u001b[1;33m(\u001b[0m\u001b[0my3\u001b[0m \u001b[1;33m+\u001b[0m \u001b[0my1\u001b[0m\u001b[1;33m)\u001b[0m \u001b[1;33m/\u001b[0m \u001b[1;36m2\u001b[0m\u001b[1;33m\u001b[0m\u001b[1;33m\u001b[0m\u001b[0m\n\u001b[1;32m---> 12\u001b[1;33m     \u001b[0mr1\u001b[0m \u001b[1;33m=\u001b[0m \u001b[0mmath\u001b[0m\u001b[1;33m.\u001b[0m\u001b[0msqrt\u001b[0m\u001b[1;33m(\u001b[0m\u001b[0md12\u001b[0m\u001b[1;33m^\u001b[0m\u001b[1;36m2\u001b[0m \u001b[1;33m/\u001b[0m \u001b[1;36m4\u001b[0m \u001b[1;33m-\u001b[0m \u001b[1;33m(\u001b[0m\u001b[1;33m(\u001b[0m\u001b[0mx2\u001b[0m \u001b[1;33m-\u001b[0m \u001b[0mx1\u001b[0m\u001b[1;33m)\u001b[0m \u001b[1;33m*\u001b[0m \u001b[1;33m(\u001b[0m\u001b[0my4\u001b[0m \u001b[1;33m-\u001b[0m \u001b[0myc1\u001b[0m\u001b[1;33m)\u001b[0m \u001b[1;33m-\u001b[0m \u001b[1;33m(\u001b[0m\u001b[0mx4\u001b[0m \u001b[1;33m-\u001b[0m \u001b[0mxc1\u001b[0m\u001b[1;33m)\u001b[0m \u001b[1;33m*\u001b[0m \u001b[1;33m(\u001b[0m\u001b[0my2\u001b[0m \u001b[1;33m-\u001b[0m \u001b[0my1\u001b[0m\u001b[1;33m)\u001b[0m\u001b[1;33m)\u001b[0m\u001b[1;33m^\u001b[0m\u001b[1;36m2\u001b[0m \u001b[1;33m/\u001b[0m \u001b[1;33m(\u001b[0m\u001b[1;36m4\u001b[0m \u001b[1;33m*\u001b[0m \u001b[0md12\u001b[0m\u001b[1;33m^\u001b[0m\u001b[1;36m2\u001b[0m\u001b[1;33m)\u001b[0m\u001b[1;33m)\u001b[0m\u001b[1;33m\u001b[0m\u001b[1;33m\u001b[0m\u001b[0m\n\u001b[0m\u001b[0;32m     13\u001b[0m     \u001b[0mr2\u001b[0m \u001b[1;33m=\u001b[0m \u001b[0mmath\u001b[0m\u001b[1;33m.\u001b[0m\u001b[0msqrt\u001b[0m\u001b[1;33m(\u001b[0m\u001b[0md23\u001b[0m\u001b[1;33m^\u001b[0m\u001b[1;36m2\u001b[0m \u001b[1;33m/\u001b[0m \u001b[1;36m4\u001b[0m \u001b[1;33m-\u001b[0m \u001b[1;33m(\u001b[0m\u001b[1;33m(\u001b[0m\u001b[0mx3\u001b[0m \u001b[1;33m-\u001b[0m \u001b[0mx2\u001b[0m\u001b[1;33m)\u001b[0m \u001b[1;33m*\u001b[0m \u001b[1;33m(\u001b[0m\u001b[0my4\u001b[0m \u001b[1;33m-\u001b[0m \u001b[0myc2\u001b[0m\u001b[1;33m)\u001b[0m \u001b[1;33m-\u001b[0m \u001b[1;33m(\u001b[0m\u001b[0mx4\u001b[0m \u001b[1;33m-\u001b[0m \u001b[0mxc2\u001b[0m\u001b[1;33m)\u001b[0m \u001b[1;33m*\u001b[0m \u001b[1;33m(\u001b[0m\u001b[0my3\u001b[0m \u001b[1;33m-\u001b[0m \u001b[0my2\u001b[0m\u001b[1;33m)\u001b[0m\u001b[1;33m)\u001b[0m\u001b[1;33m^\u001b[0m\u001b[1;36m2\u001b[0m \u001b[1;33m/\u001b[0m \u001b[1;33m(\u001b[0m\u001b[1;36m4\u001b[0m \u001b[1;33m*\u001b[0m \u001b[0md23\u001b[0m\u001b[1;33m^\u001b[0m\u001b[1;36m2\u001b[0m\u001b[1;33m)\u001b[0m\u001b[1;33m)\u001b[0m\u001b[1;33m\u001b[0m\u001b[1;33m\u001b[0m\u001b[0m\n\u001b[0;32m     14\u001b[0m     \u001b[0mr3\u001b[0m \u001b[1;33m=\u001b[0m \u001b[0mmath\u001b[0m\u001b[1;33m.\u001b[0m\u001b[0msqrt\u001b[0m\u001b[1;33m(\u001b[0m\u001b[0md31\u001b[0m\u001b[1;33m^\u001b[0m\u001b[1;36m2\u001b[0m \u001b[1;33m/\u001b[0m \u001b[1;36m4\u001b[0m \u001b[1;33m-\u001b[0m \u001b[1;33m(\u001b[0m\u001b[1;33m(\u001b[0m\u001b[0mx1\u001b[0m \u001b[1;33m-\u001b[0m \u001b[0mx3\u001b[0m\u001b[1;33m)\u001b[0m \u001b[1;33m*\u001b[0m \u001b[1;33m(\u001b[0m\u001b[0my4\u001b[0m \u001b[1;33m-\u001b[0m \u001b[0myc3\u001b[0m\u001b[1;33m)\u001b[0m \u001b[1;33m-\u001b[0m \u001b[1;33m(\u001b[0m\u001b[0mx4\u001b[0m \u001b[1;33m-\u001b[0m \u001b[0mxc3\u001b[0m\u001b[1;33m)\u001b[0m \u001b[1;33m*\u001b[0m \u001b[1;33m(\u001b[0m\u001b[0my1\u001b[0m \u001b[1;33m-\u001b[0m \u001b[0my3\u001b[0m\u001b[1;33m)\u001b[0m\u001b[1;33m)\u001b[0m\u001b[1;33m^\u001b[0m\u001b[1;36m2\u001b[0m \u001b[1;33m/\u001b[0m \u001b[1;33m(\u001b[0m\u001b[1;36m4\u001b[0m \u001b[1;33m*\u001b[0m \u001b[0md31\u001b[0m\u001b[1;33m^\u001b[0m\u001b[1;36m2\u001b[0m\u001b[1;33m)\u001b[0m\u001b[1;33m)\u001b[0m\u001b[1;33m\u001b[0m\u001b[1;33m\u001b[0m\u001b[0m\n",
      "\u001b[1;31mTypeError\u001b[0m: unsupported operand type(s) for ^: 'float' and 'float'"
     ]
    }
   ],
   "source": [
    "import math\n",
    "def find_fourth_point_with_circle_intersection(x1, y1, x2, y2, x3, y3, d1, d2, d3):\n",
    "    d12 = math.sqrt((x2 - x1)^2 + (y2 - y1)^2)\n",
    "    d23 = math.sqrt((x3 - x2)^2 + (y3 - y2)^2)\n",
    "    d31 = math.sqrt((x1 - x3)^2 + (y1 - y3)^2)\n",
    "    xc1 = (x1 + x2) / 2\n",
    "    yc1 = (y1 + y2) / 2\n",
    "    xc2 = (x2 + x3) / 2\n",
    "    yc2 = (y2 + y3) / 2\n",
    "    xc3 = (x3 + x1) / 2\n",
    "    yc3 = (y3 + y1) / 2\n",
    "    r1 = math.sqrt(d12^2 / 4 - ((x2 - x1) * (y4 - yc1) - (x4 - xc1) * (y2 - y1))^2 / (4 * d12^2))\n",
    "    r2 = math.sqrt(d23^2 / 4 - ((x3 - x2) * (y4 - yc2) - (x4 - xc2) * (y3 - y2))^2 / (4 * d23^2))\n",
    "    r3 = math.sqrt(d31^2 / 4 - ((x1 - x3) * (y4 - yc3) - (x4 - xc3) * (y1 - y3))^2 / (4 * d31^2))\n",
    "    xA = (r1^2 - r2^2 + d23^2) / (2 * d23)\n",
    "    yA = math.sqrt(r1^2 - xA^2)\n",
    "    xB = (r1^2 - r3^2 + d31^2) / (2 * d31)\n",
    "    yB = math.sqrt(r1^2 - xB^2)\n",
    "    xC = x3 - (r2^2 - r3^2 + d31^2) / (2 * d31)\n",
    "    yC = math.sqrt(r2^2 - (xC - x2)^2)\n",
    "    if abs(math.sqrt((xA - x1)^2 + (yA - y1)^2) - d1) < 0.0001:\n",
    "        return xA, yA\n",
    "    elif abs(math.sqrt((xB - x2)^2 + (yB - y2)^2) - d2) < 0.0001:\n",
    "        return xB, yB\n",
    "    else:\n",
    "        return xC, yC\n",
    "\n",
    "    \n",
    "    \n",
    "x1, y1, x2, y2, x3, y3, d1, d2, d3 = 0,0,1,0,1,4,1,1,3\n",
    "find_fourth_point_with_circle_intersection(x1, y1, x2, y2, x3, y3, d1, d2, d3)"
   ]
  }
 ],
 "metadata": {
  "kernelspec": {
   "display_name": "Python 3",
   "language": "python",
   "name": "python3"
  },
  "language_info": {
   "codemirror_mode": {
    "name": "ipython",
    "version": 3
   },
   "file_extension": ".py",
   "mimetype": "text/x-python",
   "name": "python",
   "nbconvert_exporter": "python",
   "pygments_lexer": "ipython3",
   "version": "3.7.2"
  }
 },
 "nbformat": 4,
 "nbformat_minor": 5
}
