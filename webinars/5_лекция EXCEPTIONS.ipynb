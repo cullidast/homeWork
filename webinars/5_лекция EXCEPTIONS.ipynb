{
 "cells": [
  {
   "cell_type": "markdown",
   "id": "b4c51d9f-0870-4c7c-b7f2-4db7aeaa00bf",
   "metadata": {
    "tags": []
   },
   "source": [
    "# ПОНЯТИЕ ИСКЛЮЧЕНИЙ"
   ]
  },
  {
   "cell_type": "code",
   "execution_count": null,
   "id": "5d2f3033-43d9-4aa5-9c41-32d7eb2364fd",
   "metadata": {
    "tags": []
   },
   "outputs": [],
   "source": [
    "x = int(input(\"Введите число: \"))\n",
    "y = int(input(\"Введите делитель: \"))\n",
    "result = x / y\n",
    "\n"
   ]
  },
  {
   "cell_type": "code",
   "execution_count": null,
   "id": "142b1ce4-a9d8-4df2-b6f0-c6d941accd70",
   "metadata": {
    "tags": []
   },
   "outputs": [],
   "source": [
    "raise ZeroDivisionError(\"Здесь будет сообщение об ошибке\")"
   ]
  },
  {
   "cell_type": "code",
   "execution_count": null,
   "id": "865f345f-40c8-4589-b99f-be0b2396b907",
   "metadata": {
    "tags": []
   },
   "outputs": [],
   "source": [
    "try:\n",
    "    x = int(input(\"Введите число: \"))\n",
    "    y = int(input(\"Введите делитель: \"))\n",
    "    result = x / y\n",
    "except Exception:\n",
    "    print(\"Возникла ошибка\")\n",
    "else:\n",
    "    print(f\"Результат: {result}\")\n"
   ]
  },
  {
   "cell_type": "code",
   "execution_count": null,
   "id": "a1d7f23c-6449-4f84-bfb1-875a1081ed7d",
   "metadata": {},
   "outputs": [],
   "source": [
    "# Выйти в любой момент"
   ]
  }
 ],
 "metadata": {
  "kernelspec": {
   "display_name": "Python 3",
   "language": "python",
   "name": "python3"
  },
  "language_info": {
   "codemirror_mode": {
    "name": "ipython",
    "version": 3
   },
   "file_extension": ".py",
   "mimetype": "text/x-python",
   "name": "python",
   "nbconvert_exporter": "python",
   "pygments_lexer": "ipython3",
   "version": "3.7.2"
  }
 },
 "nbformat": 4,
 "nbformat_minor": 5
}
