{
 "cells": [
  {
   "cell_type": "markdown",
   "id": "200621f1-cfbf-4cd3-adad-6349cd4b144d",
   "metadata": {},
   "source": [
    "# ВЛОЖЕННЫЕ КОНСТРУКЦИИ ИСКЛЮЧЕНИЙ"
   ]
  },
  {
   "cell_type": "code",
   "execution_count": 1,
   "id": "66cbd922-ec09-470a-8692-dac2ed7e5cff",
   "metadata": {
    "tags": []
   },
   "outputs": [
    {
     "name": "stdout",
     "output_type": "stream",
     "text": [
      "Общая ошибка\n",
      "Hello\n"
     ]
    }
   ],
   "source": [
    "try:\n",
    "    # Код, который может вызвать исключение\n",
    "    var_1 = 9\n",
    "    var_2 = \"d\"\n",
    "    try:\n",
    "        # Код, который может вызвать вложенное исключение\n",
    "        var_2 / var_1\n",
    "        pass\n",
    "    except ValueError:\n",
    "        # Обработка вложенного исключения\n",
    "        pass\n",
    "    except Exception:\n",
    "        # Обработка вложенного исключения\n",
    "        print(\"Общая ошибка\")\n",
    "        pass\n",
    "    print(\"Hello\")\n",
    "    # Код, который может вызвать другое исключение\n",
    "    pass\n",
    "except ZeroDivisionError:\n",
    "    # Обработка исключения\n",
    "    pass\n"
   ]
  },
  {
   "cell_type": "code",
   "execution_count": 2,
   "id": "629ac070-f76f-4a3b-9a0d-89cf30d7e829",
   "metadata": {
    "tags": []
   },
   "outputs": [
    {
     "name": "stdout",
     "output_type": "stream",
     "text": [
      "Деление на ноль\n",
      "Повторное деление на ноль\n"
     ]
    }
   ],
   "source": [
    "try:\n",
    "    1/0\n",
    "    # Код, который может вызвать исключение\n",
    "    pass\n",
    "except ZeroDivisionError:\n",
    "    # Обработка исключения\n",
    "    print(\"Деление на ноль\")\n",
    "    try:\n",
    "        1/0\n",
    "        # Код, который может вызвать вложенное исключение\n",
    "        \n",
    "        pass\n",
    "    except ZeroDivisionError:\n",
    "        print(\"Повторное деление на ноль\")\n",
    "        # Обработка вложенного исключения\n",
    "        pass\n",
    "    pass\n"
   ]
  },
  {
   "cell_type": "code",
   "execution_count": null,
   "id": "43f7090e-98c6-4436-9b85-baaa14f3ea43",
   "metadata": {},
   "outputs": [],
   "source": []
  }
 ],
 "metadata": {
  "kernelspec": {
   "display_name": "Python 3",
   "language": "python",
   "name": "python3"
  },
  "language_info": {
   "codemirror_mode": {
    "name": "ipython",
    "version": 3
   },
   "file_extension": ".py",
   "mimetype": "text/x-python",
   "name": "python",
   "nbconvert_exporter": "python",
   "pygments_lexer": "ipython3",
   "version": "3.7.2"
  }
 },
 "nbformat": 4,
 "nbformat_minor": 5
}
