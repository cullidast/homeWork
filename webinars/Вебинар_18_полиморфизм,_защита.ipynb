{
  "cells": [
    {
      "cell_type": "markdown",
      "metadata": {
        "id": "inA2Q8YwksRn"
      },
      "source": [
        "# Вебинар. Защита, полиморфизм"
      ]
    },
    {
      "cell_type": "markdown",
      "metadata": {
        "id": "pbcH57-MksRr",
        "tags": []
      },
      "source": [
        "# Проверка связи"
      ]
    },
    {
      "cell_type": "markdown",
      "metadata": {
        "id": "nJoeW0_GFNXn"
      },
      "source": [
        "**Если у вас нет звука:**\n",
        "- убедитесь, что на вашем устройстве\n",
        "и в колонках включён звук\n",
        "- обновите страницу вебинара или закройте страницу и заново присоединитесь к вебинару\n",
        "- откройте вебинар в другом браузере\n",
        "- перезагрузите ваше устройство\n",
        "и  попытайтесь войти снова"
      ]
    },
    {
      "cell_type": "markdown",
      "metadata": {
        "id": "rDpHoOgTFNXo"
      },
      "source": [
        "**Поставьте в чат:**<br>\n",
        "\\+ — если меня видно и слышно<br>\n",
        "– — если нет"
      ]
    },
    {
      "cell_type": "markdown",
      "metadata": {
        "id": "ICqAlaeqFNXp"
      },
      "source": [
        "# О спикере"
      ]
    },
    {
      "cell_type": "markdown",
      "metadata": {
        "id": "yWeRajlCFNXp",
        "tags": []
      },
      "source": [
        "**Филипп Воронов**\n",
        "- тимлид в VK\n",
        "- преподаватель в Нетологии, Яндекс Практикуме, Университете ИТМО, GeekBrains, Computer Science Center, Bang Bang Education"
      ]
    },
    {
      "cell_type": "markdown",
      "metadata": {
        "id": "dvf3jbWrFNXq"
      },
      "source": [
        "# Правила участия"
      ]
    },
    {
      "cell_type": "markdown",
      "metadata": {
        "id": "RcmDI85BFNXr",
        "tags": []
      },
      "source": [
        "1. Продолжительность вебинара — 80 минут. Через 40 минут сделаем перерыв на 5 минут\n",
        "2. Запустите Jupyter Notebook / Google Colab / IDE для выполнения практических заданий вебинара. Во время демонстрации работы повторяйте за спикером: так вы лучше поймёте материал\n",
        "3. Вопросы и уточнения:\n",
        "  - создайте копию этого блокнота, чтобы фиксировать вопросы и важную информацию во время занятия\n",
        "  - вы можете писать вопросы в чате во время вебинара или озвучивать их в блоке «Ваши вопросы»\n",
        "4. Запись вебинара будет доступна в личном кабинете"
      ]
    },
    {
      "cell_type": "markdown",
      "metadata": {
        "id": "JFQrFju9ksRu"
      },
      "source": [
        "# Цель занятия"
      ]
    },
    {
      "cell_type": "markdown",
      "metadata": {
        "id": "p8Pbfc0eksRv",
        "tags": []
      },
      "source": [
        "Расширить область знаний в части особенностей объектно-ориентированного программирования (ООП): полиморфизм и наследование"
      ]
    },
    {
      "cell_type": "markdown",
      "metadata": {
        "id": "y0L-W3AYksRv"
      },
      "source": [
        "# План занятия"
      ]
    },
    {
      "cell_type": "markdown",
      "metadata": {
        "id": "nUBc6G7rksRv"
      },
      "source": [
        "\n",
        "1. Защита\n",
        "2. Полиморфизм\n"
      ]
    },
    {
      "cell_type": "markdown",
      "metadata": {
        "id": "mA-waOZloTL1"
      },
      "source": [
        "# 1. Защита"
      ]
    },
    {
      "cell_type": "markdown",
      "metadata": {
        "id": "iGfU7PquoTL1"
      },
      "source": [
        "В ООП обычно определяют три уровня доступа:\n",
        "- public — свойства и методы доступны изнутри и извне класса;\n",
        "- protected — доступ к этим методам и свойствам закрыт для кода вне класса, но доступен для кода внутри класса и для кода внутри дочерних классов;\n",
        "- private — доступ к таким методам и свойствам возможен только из кода внутри класса.\n",
        "\n",
        "Эти уровни в Python регулируются особенностями имени переменных и методов:\n",
        "\n",
        "- Обычное имя, перед которым нет ни одного знака подчеркивания относится к переменным и методам типа **public**.\n",
        "\n",
        "- Имя, перед которым стоит один символ подчеркивания, определяет переменную или метод типа **protected**. Однако до сих пор это было только декларативное утверждение, не поддерживаемое интерпретатором python. Это удобно для чтения и модификации программы, и только.\n",
        "\n",
        "- Имя, перед которым стоят два символа подчёркивания относится к типу **private**. И это поддерживается на уровне интерпретатора. Но есть маленькое исключение: __имя__ — относится к типу public."
      ]
    },
    {
      "cell_type": "code",
      "execution_count": null,
      "metadata": {
        "id": "FUxdLi_IoTL1",
        "outputId": "a0b5d7c5-baca-49da-f191-38050948f7f0"
      },
      "outputs": [
        {
          "name": "stdout",
          "output_type": "stream",
          "text": [
            "Petya\n"
          ]
        }
      ],
      "source": [
        "# Define a class called \"Person\"\n",
        "class Person:\n",
        "    # Define the constructor method\n",
        "    def __init__(self, name, age):\n",
        "        self.name = name\n",
        "        self.age = age\n",
        "\n",
        "p = Person(\"Petya\", 50)\n",
        "print(p.name)"
      ]
    },
    {
      "cell_type": "code",
      "execution_count": null,
      "metadata": {
        "id": "dvz7w3_O2drW"
      },
      "outputs": [],
      "source": []
    },
    {
      "cell_type": "markdown",
      "metadata": {
        "id": "aPGvaxvaoTL2"
      },
      "source": [
        "# 2. Полиморфизм\n",
        "\n"
      ]
    },
    {
      "cell_type": "markdown",
      "metadata": {
        "id": "M8EOtS6AoTL2"
      },
      "source": [
        "Обычный полиморфизм и сложный полиморфизм являются терминами, используемыми в контексте объектно-ориентированного программирования (ООП) и полиморфизма.\n",
        "Обычный полиморфизм (полиморфизм подтипов) в ООП позволяет использовать объекты разных классов с одинаковым интерфейсом без информации о типе и внутренней структуре объекта.\n",
        "\n",
        "Это свойство системы обеспечивает гибкость и удобство при работе с различными объектами, не зная их конкретного типа.\n",
        "Сложный полиморфизм (параметрический полиморфизм) в ООП также известен как обобщённое программирование.\n",
        "\n",
        "В этом случае классы разрабатываются таким образом, чтобы обеспечить отвечающие природе объекта и решаемой задаче целостность данных объекта, а также удобный и простой интерфейс. Сложный полиморфизм позволяет создавать более универсальные и гибкие классы, которые могут адаптироваться к различным условиям и задачам.\n",
        "В целом, полиморфизм в ООП является важным механизмом, который позволяет создавать более гибкие и универсальные программы, способные адаптироваться к изменяющимся условиям и задачам."
      ]
    },
    {
      "cell_type": "code",
      "execution_count": null,
      "metadata": {
        "id": "6uK69u0AoTL2"
      },
      "outputs": [],
      "source": [
        "class Cat:\n",
        "    def __init__(self, name, age):\n",
        "        self.name = name\n",
        "        self.age = age\n",
        "\n",
        "    def info(self):\n",
        "        print(f\"I am a cat. My name is {self.name}. I am {self.age} years old.\")\n",
        "\n",
        "    def make_sound(self):\n",
        "        print(\"Meow\")\n",
        "\n",
        "\n",
        "class Dog:\n",
        "    def __init__(self, name, age):\n",
        "        self.name = name\n",
        "        self.age = age\n",
        "\n",
        "    def info(self):\n",
        "        print(f\"I am a dog. My name is {self.name}. I am {self.age} years old.\")\n",
        "\n",
        "    def make_sound(self):\n",
        "        print(\"Bark\")\n",
        "\n",
        "\n",
        "cat1 = Cat(\"Kitty\", 2.5)\n",
        "dog1 = Dog(\"Fluffy\", 4)\n",
        "\n",
        "for animal in (cat1, dog1):\n",
        "    animal.make_sound()\n",
        "    animal.info()\n",
        "    animal.make_sound()"
      ]
    },
    {
      "cell_type": "markdown",
      "metadata": {
        "id": "OJDw4npsoTL3"
      },
      "source": [
        "## Ваши вопросы"
      ]
    },
    {
      "cell_type": "markdown",
      "metadata": {
        "id": "ZWZHkthZksSD"
      },
      "source": [
        "## Итоги занятия"
      ]
    },
    {
      "cell_type": "markdown",
      "metadata": {
        "id": "R9UkNLL_ksSD"
      },
      "source": [
        "Расширили область знаний по практике использования ООП (наследование, полиморфизм, защита)"
      ]
    },
    {
      "cell_type": "markdown",
      "metadata": {
        "id": "iHa09MJ9ksSD",
        "tags": []
      },
      "source": [
        "## Ваши вопросы"
      ]
    }
  ],
  "metadata": {
    "colab": {
      "provenance": []
    },
    "kernelspec": {
      "display_name": "Python 3 (ipykernel)",
      "language": "python",
      "name": "python3"
    },
    "language_info": {
      "codemirror_mode": {
        "name": "ipython",
        "version": 3
      },
      "file_extension": ".py",
      "mimetype": "text/x-python",
      "name": "python",
      "nbconvert_exporter": "python",
      "pygments_lexer": "ipython3",
      "version": "3.10.4"
    }
  },
  "nbformat": 4,
  "nbformat_minor": 0
}