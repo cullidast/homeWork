{
  "cells": [
    {
      "cell_type": "markdown",
      "metadata": {
        "id": "inA2Q8YwksRn"
      },
      "source": [
        "# Вебинар. Практика использования try .. except"
      ]
    },
    {
      "cell_type": "markdown",
      "metadata": {
        "tags": [],
        "id": "AMujtHwzFNXk"
      },
      "source": [
        "## Проверка связи"
      ]
    },
    {
      "cell_type": "markdown",
      "metadata": {
        "id": "nJoeW0_GFNXn"
      },
      "source": [
        "**Если у вас нет звука:**\n",
        "- убедитесь, что на вашем устройстве\n",
        "и в колонках включён звук\n",
        "- обновите страницу вебинара или закройте страницу и заново присоединитесь к вебинару\n",
        "- откройте вебинар в другом браузере\n",
        "- перезагрузите ваше устройство\n",
        "и  попытайтесь войти снова"
      ]
    },
    {
      "cell_type": "markdown",
      "metadata": {
        "id": "rDpHoOgTFNXo"
      },
      "source": [
        "**Поставьте в чат:**<br>\n",
        "\\+ — если меня видно и слышно<br>\n",
        "– — если нет"
      ]
    },
    {
      "cell_type": "markdown",
      "metadata": {
        "id": "ICqAlaeqFNXp"
      },
      "source": [
        "## О спикере"
      ]
    },
    {
      "cell_type": "markdown",
      "metadata": {
        "tags": [],
        "id": "yWeRajlCFNXp"
      },
      "source": [
        "**Филипп Воронов**\n",
        "- тимлид в VK\n",
        "- преподаватель в Нетологии, Яндекс Практикуме, Университете ИТМО, GeekBrains, Computer Science Center, Bang Bang Education"
      ]
    },
    {
      "cell_type": "markdown",
      "metadata": {
        "id": "dvf3jbWrFNXq"
      },
      "source": [
        "## Правила участия"
      ]
    },
    {
      "cell_type": "markdown",
      "metadata": {
        "tags": [],
        "id": "RcmDI85BFNXr"
      },
      "source": [
        "1. Продолжительность вебинара — 80 минут. Через 40 минут сделаем перерыв на 5 минут\n",
        "2. Запустите Jupyter Notebook / Google Colab / IDE для выполнения практических заданий вебинара. Во время демонстрации работы повторяйте за спикером: так вы лучше поймёте материал\n",
        "3. Вопросы и уточнения:\n",
        "  - создайте копию этого блокнота, чтобы фиксировать вопросы и важную информацию во время занятия\n",
        "  - вы можете писать вопросы в чате во время вебинара или озвучивать их в блоке «Ваши вопросы»\n",
        "4. Запись вебинара будет доступна в личном кабинете"
      ]
    },
    {
      "cell_type": "markdown",
      "metadata": {
        "id": "JFQrFju9ksRu"
      },
      "source": [
        "## Цель занятия"
      ]
    },
    {
      "cell_type": "markdown",
      "metadata": {
        "id": "p8Pbfc0eksRv",
        "tags": []
      },
      "source": [
        "Расширить знания о конструкции исключений"
      ]
    },
    {
      "cell_type": "markdown",
      "metadata": {
        "id": "y0L-W3AYksRv"
      },
      "source": [
        "## План занятия"
      ]
    },
    {
      "cell_type": "markdown",
      "metadata": {
        "id": "nUBc6G7rksRv"
      },
      "source": [
        "\n",
        "[1. Обработка ошибок](#1.-Обработка-ошибок)<br>\n",
        "[2. Исключения в цикле](#2.-Исключения-в-цикле)<br>\n",
        "[3. Вложенные исключения](#3.-Вложенные-исключения)<br>\n",
        "[4. Пользовательские исключения](#4.-Пользовательские-исключения)<br>\n"
      ]
    },
    {
      "cell_type": "markdown",
      "metadata": {
        "id": "CxE3zVrXksRv"
      },
      "source": [
        "## Ваши вопросы"
      ]
    },
    {
      "cell_type": "markdown",
      "metadata": {
        "id": "yvWq9j9zksRv"
      },
      "source": [
        "## 1. Обработка ошибок\n",
        "1. Текст ошибки указывается в последней строчке\n",
        "2. Все что перед ней — место, где ошибка произошла\n",
        "3. Есть встроенные типы ошибок, но можно создавать и свои"
      ]
    },
    {
      "cell_type": "markdown",
      "metadata": {
        "id": "uPdWZs45SsOc"
      },
      "source": [
        "Некоторые типы ошибок из документации ([перевод](https://pythonworld.ru/tipy-dannyx-v-python/isklyucheniya-v-python-konstrukciya-try-except-dlya-obrabotki-isklyuchenij.html)):\n",
        "- ZeroDivisionError — деление на ноль\n",
        "- ImportError — не удалось импортирование модуля или его атрибута (надо установить эту библиотеку)\n",
        "- IndexError — индекс не входит в диапазон элементов.\n",
        "- KeyError — несуществующий ключ (в словаре, множестве или другом объекте)\n",
        "- MemoryError — недостаточно памяти\n",
        "- SyntaxError — синтаксическая ошибка (вы опечатались или не закрыли скобку)\n",
        "- TypeError — операция применена к объекту несоответствующего типа\n",
        "- ValueError — функция получает аргумент правильного типа, но некорректного значения\n",
        "- Warning — предупреждение (текст на красном фоне в юпитере это предупреждение, а не ошибка)"
      ]
    },
    {
      "cell_type": "code",
      "execution_count": null,
      "metadata": {
        "id": "AcCpvbrxSsOd"
      },
      "outputs": [],
      "source": [
        "# эту строку можно перевести в число\n",
        "some_num = '123'"
      ]
    },
    {
      "cell_type": "code",
      "execution_count": null,
      "metadata": {
        "id": "9YbLrn-xSsOf"
      },
      "outputs": [],
      "source": [
        "float(some_num)"
      ]
    },
    {
      "cell_type": "code",
      "execution_count": null,
      "metadata": {
        "id": "eP5tSHfJSsOf"
      },
      "outputs": [],
      "source": [
        "# а эту уже нет (по крайней мере в десятичном счислении)\n",
        "ups = '123a'"
      ]
    },
    {
      "cell_type": "code",
      "execution_count": null,
      "metadata": {
        "id": "x3gOuV2oSsOg"
      },
      "outputs": [],
      "source": [
        "# ValueError — тип ошибки, далее пояснение что произошло\n",
        "# ----> 1 float(ups) — в каком месте кода произошла ошибка\n",
        "float(ups)"
      ]
    },
    {
      "cell_type": "code",
      "execution_count": null,
      "metadata": {
        "id": "2hw4RoCjSsOg"
      },
      "outputs": [],
      "source": [
        "# Ошибка внутри функции\n",
        "def square_sum(*args):\n",
        "    total_sum = 0\n",
        "    for arg in args:\n",
        "        total_sum += arg**2\n",
        "\n",
        "    return total_sum"
      ]
    },
    {
      "cell_type": "code",
      "execution_count": null,
      "metadata": {
        "id": "AbNCeSPWSsOh"
      },
      "outputs": [],
      "source": [
        "square_sum(1, 2, 3)"
      ]
    },
    {
      "cell_type": "code",
      "execution_count": null,
      "metadata": {
        "id": "3yhkTAcTSsOh"
      },
      "outputs": [],
      "source": [
        "# пытаемся применить к операцию возведения в квадрат к строке\n",
        "# ----> 1 square_sum(1, 2, '3') — в какой функции произошла ошибка\n",
        "# ----> 4         total_sum += arg**2 — в какой именно строке произошла ошибка\n",
        "\n",
        "square_sum(1, 2, '3')"
      ]
    },
    {
      "cell_type": "markdown",
      "metadata": {
        "id": "t5aNYSTiSsOh"
      },
      "source": [
        "## Ваши вопросы"
      ]
    },
    {
      "cell_type": "markdown",
      "metadata": {
        "id": "rIyeeudqSsOi"
      },
      "source": [
        "## 2. Исключения в цикле"
      ]
    },
    {
      "cell_type": "code",
      "execution_count": null,
      "metadata": {
        "id": "UaxLxuTbSsOi"
      },
      "outputs": [],
      "source": [
        "## Как сделать, чтобы цикл с расчетом не падал каждый раз\n",
        "try:\n",
        "    # ваш код, где может произойти ошибка\n",
        "    float('123a')\n",
        "\n",
        "except:\n",
        "    # код, который выполняется в случае ошибки\n"
      ]
    },
    {
      "cell_type": "code",
      "execution_count": null,
      "metadata": {
        "id": "ua0injFUSsOi"
      },
      "outputs": [],
      "source": [
        "data = ['90', '60', '90', '240tot']\n",
        "total_sum = 0\n",
        "\n",
        "for num in data:\n",
        "    try:\n",
        "        total_sum += float(num)\n",
        "\n",
        "    except:\n",
        "        print('Ошибка в данных: {}'.format(num))\n",
        "\n",
        "print('Итого', total_sum)"
      ]
    },
    {
      "cell_type": "code",
      "execution_count": null,
      "metadata": {
        "id": "wGxIK46LSsOj"
      },
      "outputs": [],
      "source": [
        "# Сохранить информацию об ошибке\n",
        "# полная версия traceback\n",
        "import traceback\n",
        "\n",
        "try:\n",
        "    float('123fff')\n",
        "\n",
        "except Exception:\n",
        "    print(traceback.print_exc())\n",
        "\n",
        "print('Проехали')"
      ]
    },
    {
      "cell_type": "markdown",
      "metadata": {
        "id": "tjc3SqVqSsOj"
      },
      "source": [
        "## Ваши вопросы"
      ]
    },
    {
      "cell_type": "markdown",
      "metadata": {
        "tags": [],
        "id": "yEEKTmqUSsOj"
      },
      "source": [
        "## 3. Вложенные исключения"
      ]
    },
    {
      "cell_type": "code",
      "execution_count": null,
      "metadata": {
        "id": "G8cSdBlHSsOk"
      },
      "outputs": [],
      "source": [
        "try:\n",
        "    # Код, который может вызвать исключение\n",
        "    var_1 = 9\n",
        "    var_2 = \"d\"\n",
        "    try:\n",
        "        # Код, который может вызвать вложенное исключение\n",
        "        var_2 / var_1\n",
        "        pass\n",
        "    except ValueError:\n",
        "        # Обработка вложенного исключения\n",
        "        pass\n",
        "    except Exception:\n",
        "        # Обработка вложенного исключения\n",
        "        print(\"Общая ошибка\")\n",
        "        pass\n",
        "    print(\"Hello\")\n",
        "    # Код, который может вызвать другое исключение\n",
        "    pass\n",
        "except ZeroDivisionError:\n",
        "    # Обработка исключения\n",
        "    pass\n"
      ]
    },
    {
      "cell_type": "code",
      "execution_count": null,
      "metadata": {
        "id": "NZ4V4lTkSsOk"
      },
      "outputs": [],
      "source": [
        "try:\n",
        "    1/0\n",
        "    # Код, который может вызвать исключение\n",
        "    pass\n",
        "except ZeroDivisionError:\n",
        "    # Обработка исключения\n",
        "    print(\"Деление на ноль\")\n",
        "    try:\n",
        "        1/0\n",
        "        # Код, который может вызвать вложенное исключение\n",
        "\n",
        "        pass\n",
        "    except ZeroDivisionError:\n",
        "        print(\"Повторное деление на ноль\")\n",
        "        # Обработка вложенного исключения\n",
        "        pass\n",
        "    pass\n"
      ]
    },
    {
      "cell_type": "markdown",
      "metadata": {
        "id": "pgIl9_4kSsOk"
      },
      "source": [
        "## Ваши вопросы"
      ]
    },
    {
      "cell_type": "markdown",
      "metadata": {
        "id": "D0r_cAQ8SsOl"
      },
      "source": [
        "## 4. Пользовательские исключения"
      ]
    },
    {
      "cell_type": "code",
      "execution_count": null,
      "metadata": {
        "id": "lT0iZZ0NSsOl"
      },
      "outputs": [],
      "source": [
        "class CustomError(Exception):\n",
        "    pass\n",
        "raise CustomError(\"Здесь будет текст ошибки\")"
      ]
    },
    {
      "cell_type": "code",
      "execution_count": null,
      "metadata": {
        "id": "oE-uC4lpSsOl"
      },
      "outputs": [],
      "source": [
        "raise ImportError(\"Здесь будет текст ошибки\")"
      ]
    },
    {
      "cell_type": "code",
      "execution_count": null,
      "metadata": {
        "id": "ig9A8FfKSsOl"
      },
      "outputs": [],
      "source": [
        "class CustomError(Exception):\n",
        "    pass\n",
        "\n",
        "def divide_numbers(x, y):\n",
        "    if y == 0:\n",
        "        raise CustomError(\"Деление на ноль невозможно\")\n",
        "    else:\n",
        "        return x / y\n",
        "try:\n",
        "    result = divide_numbers(10, 10)\n",
        "except CustomError as e:\n",
        "    print(e)\n",
        "else:\n",
        "    print(f\"Результат: {result}\")"
      ]
    },
    {
      "cell_type": "code",
      "execution_count": null,
      "metadata": {
        "id": "Ua33sxBKSsOy"
      },
      "outputs": [],
      "source": [
        "class ValueTooSmallError(Exception):\n",
        "    pass\n",
        "class ValueTooLargeError(Exception):\n",
        "    pass\n",
        "def test_value(x):\n",
        "    if x < 0:\n",
        "        raise ValueTooSmallError(\"Значение слишком маленькое\")\n",
        "    elif x > 100:\n",
        "        raise ValueTooLargeError(\"Значение слишком большое\")\n",
        "    else:\n",
        "        print(\"Значение корректное\")\n",
        "\n",
        "try: test_value(23)\n",
        "except ValueTooSmallError as e: print(e)\n",
        "except ValueTooLargeError as e: print(e)"
      ]
    },
    {
      "cell_type": "markdown",
      "metadata": {
        "id": "RiNMa1w2UCgR"
      },
      "source": [
        "## Ваши вопросы"
      ]
    },
    {
      "cell_type": "markdown",
      "metadata": {
        "id": "ZWZHkthZksSD"
      },
      "source": [
        "## Итоги занятия"
      ]
    },
    {
      "cell_type": "markdown",
      "metadata": {
        "id": "R9UkNLL_ksSD"
      },
      "source": [
        "Расширили знания о практике применения исключений"
      ]
    },
    {
      "cell_type": "markdown",
      "metadata": {
        "id": "iHa09MJ9ksSD",
        "tags": []
      },
      "source": [
        "## Ваши вопросы"
      ]
    },
    {
      "cell_type": "markdown",
      "source": [
        "# Анонс следующего занятия"
      ],
      "metadata": {
        "id": "21S8pOkrUGOz"
      }
    },
    {
      "cell_type": "markdown",
      "source": [
        "Вебинар. Практика использования файлов. Структуры хранения\n",
        "\n",
        "**Важно!**\n",
        "До вебинара посмотрите лекции по теме 6 \"Файлы и структуры данных\""
      ],
      "metadata": {
        "id": "Q7lOMh3EUIvP"
      }
    }
  ],
  "metadata": {
    "colab": {
      "provenance": []
    },
    "kernelspec": {
      "display_name": "Python 3",
      "language": "python",
      "name": "python3"
    },
    "language_info": {
      "codemirror_mode": {
        "name": "ipython",
        "version": 3
      },
      "file_extension": ".py",
      "mimetype": "text/x-python",
      "name": "python",
      "nbconvert_exporter": "python",
      "pygments_lexer": "ipython3",
      "version": "3.7.2"
    }
  },
  "nbformat": 4,
  "nbformat_minor": 0
}