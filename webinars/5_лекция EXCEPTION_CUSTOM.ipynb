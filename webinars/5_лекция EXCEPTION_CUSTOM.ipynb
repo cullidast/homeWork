{
 "cells": [
  {
   "cell_type": "markdown",
   "id": "b6c18930-9392-4afb-a68a-68dc0c4e40b4",
   "metadata": {},
   "source": [
    "# ПОЛЬЗОВАТЕЛЬСКИЕ ИСКЛЮЧЕНИЯ"
   ]
  },
  {
   "cell_type": "code",
   "execution_count": 1,
   "id": "899866f7-c68c-4675-a286-4f9a54630e76",
   "metadata": {
    "tags": []
   },
   "outputs": [
    {
     "ename": "CustomError",
     "evalue": "Здесь будет текст ошибки",
     "output_type": "error",
     "traceback": [
      "\u001b[1;31m---------------------------------------------------------------------------\u001b[0m",
      "\u001b[1;31mCustomError\u001b[0m                               Traceback (most recent call last)",
      "\u001b[1;32m<ipython-input-1-cbb70c6db3e0>\u001b[0m in \u001b[0;36m<module>\u001b[1;34m\u001b[0m\n\u001b[0;32m      1\u001b[0m \u001b[1;32mclass\u001b[0m \u001b[0mCustomError\u001b[0m\u001b[1;33m(\u001b[0m\u001b[0mException\u001b[0m\u001b[1;33m)\u001b[0m\u001b[1;33m:\u001b[0m\u001b[1;33m\u001b[0m\u001b[1;33m\u001b[0m\u001b[0m\n\u001b[0;32m      2\u001b[0m     \u001b[1;32mpass\u001b[0m\u001b[1;33m\u001b[0m\u001b[1;33m\u001b[0m\u001b[0m\n\u001b[1;32m----> 3\u001b[1;33m \u001b[1;32mraise\u001b[0m \u001b[0mCustomError\u001b[0m\u001b[1;33m(\u001b[0m\u001b[1;34m\"Здесь будет текст ошибки\"\u001b[0m\u001b[1;33m)\u001b[0m\u001b[1;33m\u001b[0m\u001b[1;33m\u001b[0m\u001b[0m\n\u001b[0m",
      "\u001b[1;31mCustomError\u001b[0m: Здесь будет текст ошибки"
     ]
    }
   ],
   "source": [
    "class CustomError(Exception):\n",
    "    pass\n",
    "raise CustomError(\"Здесь будет текст ошибки\")"
   ]
  },
  {
   "cell_type": "code",
   "execution_count": 2,
   "id": "559d639c-4f84-43d3-88a2-e19d33f4f5c7",
   "metadata": {
    "tags": []
   },
   "outputs": [
    {
     "ename": "ImportError",
     "evalue": "Здесь будет текст ошибки",
     "output_type": "error",
     "traceback": [
      "\u001b[1;31m---------------------------------------------------------------------------\u001b[0m",
      "\u001b[1;31mImportError\u001b[0m                               Traceback (most recent call last)",
      "\u001b[1;32m<ipython-input-2-7173ce0c9d96>\u001b[0m in \u001b[0;36m<module>\u001b[1;34m\u001b[0m\n\u001b[1;32m----> 1\u001b[1;33m \u001b[1;32mraise\u001b[0m \u001b[0mImportError\u001b[0m\u001b[1;33m(\u001b[0m\u001b[1;34m\"Здесь будет текст ошибки\"\u001b[0m\u001b[1;33m)\u001b[0m\u001b[1;33m\u001b[0m\u001b[1;33m\u001b[0m\u001b[0m\n\u001b[0m",
      "\u001b[1;31mImportError\u001b[0m: Здесь будет текст ошибки"
     ]
    }
   ],
   "source": [
    "raise ImportError(\"Здесь будет текст ошибки\")"
   ]
  },
  {
   "cell_type": "code",
   "execution_count": 4,
   "id": "92adbcd5-e8ca-473d-9e37-c1458cdc3e60",
   "metadata": {
    "tags": []
   },
   "outputs": [
    {
     "name": "stdout",
     "output_type": "stream",
     "text": [
      "Результат: 1.0\n"
     ]
    }
   ],
   "source": [
    "class CustomError(Exception):\n",
    "    pass\n",
    "\n",
    "def divide_numbers(x, y):\n",
    "    if y == 0:\n",
    "        raise CustomError(\"Деление на ноль невозможно\")\n",
    "    else:\n",
    "        return x / y\n",
    "try:\n",
    "    result = divide_numbers(10, 10)\n",
    "except CustomError as e:\n",
    "    print(e)\n",
    "else:\n",
    "    print(f\"Результат: {result}\")"
   ]
  },
  {
   "cell_type": "code",
   "execution_count": 7,
   "id": "2bac5673-464c-4b9c-aeb9-8d1350ca04c9",
   "metadata": {
    "tags": []
   },
   "outputs": [
    {
     "name": "stdout",
     "output_type": "stream",
     "text": [
      "Значение корректное\n"
     ]
    }
   ],
   "source": [
    "class ValueTooSmallError(Exception):\n",
    "    pass\n",
    "class ValueTooLargeError(Exception):\n",
    "    pass\n",
    "def test_value(x):\n",
    "    if x < 0:\n",
    "        raise ValueTooSmallError(\"Значение слишком маленькое\")\n",
    "    elif x > 100:\n",
    "        raise ValueTooLargeError(\"Значение слишком большое\")\n",
    "    else:\n",
    "        print(\"Значение корректное\")\n",
    "\n",
    "try: test_value(23)\n",
    "except ValueTooSmallError as e: print(e)\n",
    "except ValueTooLargeError as e: print(e)"
   ]
  },
  {
   "cell_type": "code",
   "execution_count": null,
   "id": "e9cb6bc3-cf3d-4902-8ce5-d7c51bb83b2f",
   "metadata": {},
   "outputs": [],
   "source": []
  }
 ],
 "metadata": {
  "kernelspec": {
   "display_name": "Python 3",
   "language": "python",
   "name": "python3"
  },
  "language_info": {
   "codemirror_mode": {
    "name": "ipython",
    "version": 3
   },
   "file_extension": ".py",
   "mimetype": "text/x-python",
   "name": "python",
   "nbconvert_exporter": "python",
   "pygments_lexer": "ipython3",
   "version": "3.7.2"
  }
 },
 "nbformat": 4,
 "nbformat_minor": 5
}
