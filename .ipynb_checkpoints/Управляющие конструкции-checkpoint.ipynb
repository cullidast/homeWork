{
  "cells": [
    {
      "cell_type": "markdown",
      "metadata": {
        "id": "inA2Q8YwksRn"
      },
      "source": [
        "# Вебинар: Jupyter Notebook, бинарные и унарные операции, переменные, условия"
      ]
    },
    {
      "cell_type": "code",
      "source": [],
      "metadata": {
        "id": "3sTVemhbZ3vM"
      },
      "execution_count": null,
      "outputs": []
    },
    {
      "cell_type": "markdown",
      "metadata": {
        "tags": [],
        "id": "pbcH57-MksRr"
      },
      "source": [
        "## Проверка связи"
      ]
    },
    {
      "cell_type": "markdown",
      "metadata": {
        "id": "xINEc2zFksRr"
      },
      "source": [
        "**Если у вас нет звука:**\n",
        "- убедитесь, что на вашем устройстве\n",
        "и в колонках включён звук\n",
        "- обновите страницу вебинара или закройте страницу и заново присоединитесь к вебинару\n",
        "- откройте вебинар в другом браузере\n",
        "- перезагрузите ваше устройство\n",
        "и  попытайтесь войти снова\n"
      ]
    },
    {
      "cell_type": "markdown",
      "metadata": {
        "id": "aq_cAJwVksRs"
      },
      "source": [
        "**Поставьте в чат:**<br>\n",
        "\\+ если меня видно и слышно<br>\n",
        "\\- если нет"
      ]
    },
    {
      "cell_type": "markdown",
      "metadata": {
        "id": "lGmyF92MksRs"
      },
      "source": [
        "## О спикере"
      ]
    },
    {
      "cell_type": "markdown",
      "metadata": {
        "tags": [],
        "id": "IQ5tPuttksRt"
      },
      "source": [
        "**Филипп Воронов**\n",
        "- тимлид в VK\n",
        "- преподаватель в Нетологии, Яндекс Практикуме, Университете ИТМО, GeekBrains, Computer Science Center, Bang Bang Education\n"
      ]
    },
    {
      "cell_type": "markdown",
      "metadata": {
        "id": "jeTexD3tksRt"
      },
      "source": [
        "## Правила участия"
      ]
    },
    {
      "cell_type": "markdown",
      "metadata": {
        "tags": [],
        "id": "2kvQyqS9ksRt"
      },
      "source": [
        "1. Продолжительность вебинара — 80 минут. Через 40 минут сделаем перерыв на 5 минут\n",
        "2. Запустите Jupyter Notebook / Google Colab / IDE для выполнения практических заданий вебинара. Во время демонстрации работы повторяйте за спикером: так вы лучше поймёте материал\n",
        "3. Вопросы и уточнения:\n",
        "  - создайте копию этого блокнота, чтобы фиксировать вопросы и важную информацию во время занятия\n",
        "  - вы можете писать вопросы в чате во время вебинара или озвучивать их в блоке «Ваши вопросы»\n",
        "4. Запись вебинара будет доступна в личном кабинете"
      ]
    },
    {
      "cell_type": "markdown",
      "metadata": {
        "id": "JFQrFju9ksRu"
      },
      "source": [
        "## Цель занятия"
      ]
    },
    {
      "cell_type": "markdown",
      "metadata": {
        "tags": [],
        "id": "p8Pbfc0eksRv"
      },
      "source": [
        "Расширить область знаний в части компонента Jupyter Notebook, бинарных и унарных операций, переменных, условных конструкций"
      ]
    },
    {
      "cell_type": "markdown",
      "metadata": {
        "id": "y0L-W3AYksRv"
      },
      "source": [
        "## План занятия"
      ]
    },
    {
      "cell_type": "markdown",
      "metadata": {
        "id": "nUBc6G7rksRv"
      },
      "source": [
        "[1. Jupyter Notebook, Google Colab](#1.-Jupyter-Notebook-/-Google-Collab)<br>\n",
        "[2. Арифметические операции](#2.-Арифметические-операции)<br>\n",
        "[3. Переменные](#3.-Переменные)<br>\n",
        "[4. Строки](#4.-Строки)<br>\n",
        "[5. Операторы сравнения](#5.-Операторы-сравнения)<br>\n",
        "[6. Условные конструкции](#6.-Условные-конструкции)<br>\n",
        "[7. Пишем программу для отбора кандидаток в модельное агентство](#7.-Пишем-программу-для-отбора-кандидаток-в-модельное-агентство)<br>\n",
        "[8. Логические операторы and и or](#8.-Логические-операторы-and-и-or)<br>"
      ]
    },
    {
      "cell_type": "markdown",
      "metadata": {
        "id": "CxE3zVrXksRv"
      },
      "source": [
        "## Ваши вопросы"
      ]
    },
    {
      "cell_type": "markdown",
      "metadata": {
        "id": "yvWq9j9zksRv"
      },
      "source": [
        "## 1. Jupyter Notebook, Google Colab"
      ]
    },
    {
      "cell_type": "code",
      "execution_count": null,
      "metadata": {
        "tags": [],
        "id": "3o7kZsioksRw"
      },
      "outputs": [],
      "source": [
        "#15+"
      ]
    },
    {
      "cell_type": "markdown",
      "metadata": {
        "id": "seyz8O4WksRx"
      },
      "source": [
        "### Выполнение команд\n",
        "- Shift + Enter — выполнить код в ячейке и перейти на следующую\n",
        "- Ctrl + Enter — выполнить код и остаться в ячейке\n",
        "### Полезные советы: Markdown\n",
        "* Для автозаполнения длинных названий используйте табуляцию\n",
        "* Перевести ячейку из кода в комментарии можно с помощью Esc + m или просто m, если вы ещё не успели сделать её активной\n",
        "* Добавить новую ячейку можно аналогичным образом через клавишу b\n",
        "* Jupyter понимает эти команды и в русской раскладке\n",
        "* Все эти действия можно произвести через верхнюю панель под меню File — Edit\n",
        "* Список горячих клавиш: Ctrl + Shift + P или Command + Shift + P для Mac"
      ]
    },
    {
      "cell_type": "markdown",
      "metadata": {
        "id": "OznwqOTnksRx"
      },
      "source": [
        "---\n",
        "<div class=\"alert alert-block alert-success\">\n",
        "\n",
        "## Поддержка HTML\n",
        "<i>Курсив</i>\n",
        "    \n",
        "Jupyter умеет выполнять HTML-код и понимает формулы:\n",
        "\\begin{equation*}\n",
        "\\LARGE\n",
        "\\vec{a} \\dot{} \\vec{b} = |\\vec{a}| \\space |\\vec{b}| \\space cos(\\vec{a}, \\vec{b})\n",
        "\\end{equation*}\n",
        "    \n",
        "\\begin{gather*}\n",
        "a_1^3=b_1+c_1\\\\\n",
        "a_2=b_2+c_2-d_2+e_2\n",
        "\\end{gather*}\n",
        "</div>\n",
        "\\begin{gather*}\n",
        "a_1^3=b_1+c_1\\\\\n",
        "a_2=b_2+c_2-d_2+e_2\\\\\n",
        "\\int_0^\\infty \\frac{x^3}{e^x-1}\\,dx = \\frac{\\pi^4}{15}\n",
        "\\end{gather*}\n",
        "---"
      ]
    },
    {
      "cell_type": "markdown",
      "metadata": {
        "id": "RiNMa1w2UCgR"
      },
      "source": [
        "## Ваши вопросы"
      ]
    },
    {
      "cell_type": "markdown",
      "metadata": {
        "id": "8Y1Y6JGYksRy"
      },
      "source": [
        "## 2. Арифметические операции"
      ]
    },
    {
      "cell_type": "code",
      "execution_count": null,
      "metadata": {
        "id": "09J_4pUPksRy",
        "outputId": "5e93bb68-3b7f-4c09-fd4d-b33d235c2d41",
        "colab": {
          "base_uri": "https://localhost:8080/"
        }
      },
      "outputs": [
        {
          "output_type": "stream",
          "name": "stdout",
          "text": [
            "2\n"
          ]
        }
      ],
      "source": [
        "print(1 + 1)"
      ]
    },
    {
      "cell_type": "code",
      "execution_count": null,
      "metadata": {
        "id": "5gwfuLPFksRy",
        "outputId": "834eb889-308a-4de7-8bd5-d81e89dfa1a6",
        "colab": {
          "base_uri": "https://localhost:8080/"
        }
      },
      "outputs": [
        {
          "output_type": "stream",
          "name": "stdout",
          "text": [
            "1 11\n"
          ]
        }
      ],
      "source": [
        "print(2 - 1, 5 + 6)"
      ]
    },
    {
      "cell_type": "code",
      "execution_count": null,
      "metadata": {
        "id": "fcSTBrNUksRy"
      },
      "outputs": [],
      "source": [
        "print(2-1)"
      ]
    },
    {
      "cell_type": "code",
      "execution_count": null,
      "metadata": {
        "id": "W98ndUz_ksRy"
      },
      "outputs": [],
      "source": [
        "# ...\n",
        "1 + 1 # Для вывода в Jupyter Notebook необязательно использовать print"
      ]
    },
    {
      "cell_type": "code",
      "execution_count": null,
      "metadata": {
        "id": "LIEpB_kQksRz"
      },
      "outputs": [],
      "source": [
        "1 + 1\n",
        "2 - 1"
      ]
    },
    {
      "cell_type": "code",
      "execution_count": null,
      "metadata": {
        "id": "DKi_10o7ksRz"
      },
      "outputs": [],
      "source": [
        "print(1 + 1)\n",
        "print(2 - 1)"
      ]
    },
    {
      "cell_type": "code",
      "execution_count": null,
      "metadata": {
        "id": "Qd4AEcS5ksRz"
      },
      "outputs": [],
      "source": [
        "5 * 6"
      ]
    },
    {
      "cell_type": "code",
      "execution_count": null,
      "metadata": {
        "id": "Qvz1T1QEksRz"
      },
      "outputs": [],
      "source": [
        "10 / 4"
      ]
    },
    {
      "cell_type": "code",
      "execution_count": null,
      "metadata": {
        "id": "lh9NUT2DksR0"
      },
      "outputs": [],
      "source": [
        "10 // 4"
      ]
    },
    {
      "cell_type": "code",
      "execution_count": null,
      "metadata": {
        "id": "zm28O-R2ksR0"
      },
      "outputs": [],
      "source": [
        "10 = 4*2 + 2"
      ]
    },
    {
      "cell_type": "code",
      "execution_count": null,
      "metadata": {
        "id": "AjqlKlEKksR0"
      },
      "outputs": [],
      "source": [
        "2 ** 100"
      ]
    },
    {
      "cell_type": "code",
      "execution_count": null,
      "metadata": {
        "id": "aFEjm6g3ksR0"
      },
      "outputs": [],
      "source": [
        "2*2*2*2*2"
      ]
    },
    {
      "cell_type": "code",
      "execution_count": null,
      "metadata": {
        "id": "2FvPxVV-ksR0"
      },
      "outputs": [],
      "source": [
        "-4 % 3"
      ]
    },
    {
      "cell_type": "code",
      "execution_count": null,
      "metadata": {
        "id": "r81igw1NksR0"
      },
      "outputs": [],
      "source": [
        "5 - (3 + 2) * 6"
      ]
    },
    {
      "cell_type": "markdown",
      "metadata": {
        "id": "GBKAbsinUEPR"
      },
      "source": [
        "## Ваши вопросы"
      ]
    },
    {
      "cell_type": "markdown",
      "metadata": {
        "id": "Xn2nmnwWksR0"
      },
      "source": [
        "## 3. Переменные"
      ]
    },
    {
      "cell_type": "code",
      "execution_count": null,
      "metadata": {
        "id": "n6PrMENYksR1"
      },
      "outputs": [],
      "source": [
        "a = 10 + 20\n",
        "b = a * 30\n",
        "c = a / b\n",
        "print('Ответ: ', a, b, c)"
      ]
    },
    {
      "cell_type": "code",
      "execution_count": null,
      "metadata": {
        "id": "ZsbQ4IRyksR1"
      },
      "outputs": [],
      "source": [
        "b"
      ]
    },
    {
      "cell_type": "markdown",
      "metadata": {
        "id": "rHki1992ksR1"
      },
      "source": [
        "Переменная должна объявляться до её использования"
      ]
    },
    {
      "cell_type": "code",
      "execution_count": null,
      "metadata": {
        "scrolled": true,
        "id": "LseOlkxcksR1"
      },
      "outputs": [],
      "source": [
        "x = 10\n",
        "print(x)\n"
      ]
    },
    {
      "cell_type": "markdown",
      "metadata": {
        "id": "JqOkyEfoUFQG"
      },
      "source": [
        "## Ваши вопросы"
      ]
    },
    {
      "cell_type": "markdown",
      "metadata": {
        "id": "MUUd7dq_ksR7"
      },
      "source": [
        "## 4. Строки"
      ]
    },
    {
      "cell_type": "code",
      "execution_count": null,
      "metadata": {
        "id": "FulnAj5iksR8"
      },
      "outputs": [],
      "source": [
        "my_string_1 = 'He said: \"Hello\"'"
      ]
    },
    {
      "cell_type": "code",
      "execution_count": null,
      "metadata": {
        "id": "gfTGTlC4ksR8"
      },
      "outputs": [],
      "source": [
        "my_string_2 = \"Hello \\\"World!\""
      ]
    },
    {
      "cell_type": "code",
      "execution_count": null,
      "metadata": {
        "id": "sLxgX3FGksR8"
      },
      "outputs": [],
      "source": [
        "my_string_1"
      ]
    },
    {
      "cell_type": "markdown",
      "metadata": {
        "id": "wCSvPw-VUFzG"
      },
      "source": [
        "## Ваши вопросы"
      ]
    },
    {
      "cell_type": "markdown",
      "metadata": {
        "id": "XCaX0OhTksR8"
      },
      "source": [
        "## 5. Операторы сравнения"
      ]
    },
    {
      "cell_type": "code",
      "execution_count": null,
      "metadata": {
        "tags": [],
        "id": "xdXnoSFlksR8"
      },
      "outputs": [],
      "source": [
        "++1"
      ]
    },
    {
      "cell_type": "code",
      "execution_count": null,
      "metadata": {
        "tags": [],
        "id": "M0Cz5Ug4ksR8"
      },
      "outputs": [],
      "source": [
        "2 > 1"
      ]
    },
    {
      "cell_type": "code",
      "execution_count": null,
      "metadata": {
        "id": "Zl3JVArIksR8"
      },
      "outputs": [],
      "source": [
        "10 < 9"
      ]
    },
    {
      "cell_type": "code",
      "execution_count": null,
      "metadata": {
        "id": "5F_Hi3aWksR8"
      },
      "outputs": [],
      "source": [
        "10 > 10"
      ]
    },
    {
      "cell_type": "code",
      "execution_count": null,
      "metadata": {
        "id": "sTnLnWfbksR9"
      },
      "outputs": [],
      "source": [
        "10 >= 10"
      ]
    },
    {
      "cell_type": "code",
      "execution_count": null,
      "metadata": {
        "id": "WxCrqA4iksR9"
      },
      "outputs": [],
      "source": [
        "7 == 7"
      ]
    },
    {
      "cell_type": "code",
      "execution_count": null,
      "metadata": {
        "id": "3-PXpSUAksR9"
      },
      "outputs": [],
      "source": [
        "a = 1"
      ]
    },
    {
      "cell_type": "code",
      "execution_count": null,
      "metadata": {
        "id": "PL-eXQTsksR9"
      },
      "outputs": [],
      "source": [
        "a == 1"
      ]
    },
    {
      "cell_type": "code",
      "execution_count": null,
      "metadata": {
        "id": "2OK0c7j9ksR9"
      },
      "outputs": [],
      "source": [
        "<>"
      ]
    },
    {
      "cell_type": "code",
      "execution_count": null,
      "metadata": {
        "id": "Ao1ANcfCksR9"
      },
      "outputs": [],
      "source": [
        "15 != 15"
      ]
    },
    {
      "cell_type": "code",
      "execution_count": null,
      "metadata": {
        "id": "g5RbsojSksR9"
      },
      "outputs": [],
      "source": [
        "5 > 4 < 0"
      ]
    },
    {
      "cell_type": "code",
      "execution_count": null,
      "metadata": {
        "id": "7MNlmYw6ksR-"
      },
      "outputs": [],
      "source": [
        "# Сравнение строк\n",
        "print('c' > 'a')"
      ]
    },
    {
      "cell_type": "code",
      "execution_count": null,
      "metadata": {
        "id": "SUgZky6jksR-"
      },
      "outputs": [],
      "source": [
        "print('b' > 'B')"
      ]
    },
    {
      "cell_type": "code",
      "execution_count": null,
      "metadata": {
        "id": "AY1RcJuUksR-"
      },
      "outputs": [],
      "source": [
        "print('abc' > 'aba')"
      ]
    },
    {
      "cell_type": "code",
      "execution_count": null,
      "metadata": {
        "id": "GsdzpG_7ksR-"
      },
      "outputs": [],
      "source": [
        "len('abc') > len('dfhjdfj')"
      ]
    },
    {
      "cell_type": "code",
      "execution_count": null,
      "metadata": {
        "tags": [],
        "id": "RCrNtEVXksR_"
      },
      "outputs": [],
      "source": [
        "#60+"
      ]
    },
    {
      "cell_type": "markdown",
      "metadata": {
        "id": "_OPZpibUUHNx"
      },
      "source": [
        "## Ваши вопросы"
      ]
    },
    {
      "cell_type": "markdown",
      "metadata": {
        "id": "CGEugr-GksR_"
      },
      "source": [
        "## 6. Условные конструкции"
      ]
    },
    {
      "cell_type": "code",
      "execution_count": null,
      "metadata": {
        "tags": [],
        "id": "UjtV9WNdksSA"
      },
      "outputs": [],
      "source": [
        "a = 1\n",
        "b = 2\n",
        "\n",
        "if a < b and 2 > 1 and (2 > 1 or 2 > 1):\n",
        "    print('Значение переменной a меньше b')"
      ]
    },
    {
      "cell_type": "code",
      "execution_count": null,
      "metadata": {
        "id": "Jb6sdu8XksSA"
      },
      "outputs": [],
      "source": [
        "x = 6\n",
        "if x % 2 == 0:\n",
        "    print(x, '- четное число')"
      ]
    },
    {
      "cell_type": "code",
      "execution_count": null,
      "metadata": {
        "id": "L8xGzwQIksSA"
      },
      "outputs": [],
      "source": [
        "x = 5\n",
        "if x % 2 == 0:\n",
        "    print(x, '- четное число')\n",
        "else:\n",
        "    print(x, '- нечетное число')"
      ]
    },
    {
      "cell_type": "code",
      "execution_count": null,
      "metadata": {
        "id": "MfOKZv4aksSA"
      },
      "outputs": [],
      "source": [
        "'2020-05-01' < '2020-05-09'"
      ]
    },
    {
      "cell_type": "code",
      "execution_count": null,
      "metadata": {
        "id": "xxstv1SwksSA"
      },
      "outputs": [],
      "source": [
        "'2019-12-31' < '2020-01-01'"
      ]
    },
    {
      "cell_type": "code",
      "execution_count": null,
      "metadata": {
        "id": "TX0MHtQVksSA"
      },
      "outputs": [],
      "source": [
        "'logs_2020-02-29.csv' < 'logs_2020-03-01.csv'"
      ]
    },
    {
      "cell_type": "markdown",
      "metadata": {
        "id": "TwRFPkiLUIBm"
      },
      "source": [
        "## Ваши вопросы"
      ]
    },
    {
      "cell_type": "markdown",
      "metadata": {
        "id": "FUIiLsNdksSA"
      },
      "source": [
        "# 7. Пишем программу для отбора кандидаток в модельное агентство"
      ]
    },
    {
      "cell_type": "code",
      "execution_count": null,
      "metadata": {
        "id": "w4sX5VsJksSB"
      },
      "outputs": [],
      "source": [
        "height = 180\n",
        "if height < 170:\n",
        "    print('Группа моделей до 170 см')\n",
        "\n",
        "print('Конец программы')"
      ]
    },
    {
      "cell_type": "code",
      "execution_count": null,
      "metadata": {
        "id": "dzdzkr5AksSB"
      },
      "outputs": [],
      "source": [
        "if height < 170:\n",
        "    print('Группа моделей до 170 см')\n",
        "else:\n",
        "    print('В другую группу моделей')\n",
        "print('Конец программы')"
      ]
    },
    {
      "cell_type": "code",
      "execution_count": null,
      "metadata": {
        "id": "P-Zve2sbksSB"
      },
      "outputs": [],
      "source": [
        "# Условия выполняются по порядку.  Как только одно выполнено, проверки останавливаются\n",
        "height = 210\n",
        "if height < 170:\n",
        "    print('Группа моделей до 170 см')\n",
        "elif height < 200:\n",
        "    print('Группа моделей от 170 см до 180 см')\n",
        "else:\n",
        "    print('В другую группу моделей')\n",
        "print('Конец программы')"
      ]
    },
    {
      "cell_type": "code",
      "execution_count": null,
      "metadata": {
        "id": "5g5Dc832ksSB"
      },
      "outputs": [],
      "source": [
        "# Блоков elif может быть сколько угодно\n",
        "height = 210\n",
        "if height < 170:\n",
        "    print('Группа моделей до 170 см')\n",
        "elif height < 180:\n",
        "    print('Группа моделей от 170 см до 180 см')\n",
        "elif height < 200:\n",
        "    print('Группа моделей от 180 см до 200 см')\n",
        "else:\n",
        "    print('В другую группу моделей')\n",
        "print('Конец программы')"
      ]
    },
    {
      "cell_type": "markdown",
      "metadata": {
        "id": "aI5BgnAmUI3_"
      },
      "source": [
        "## Ваши вопросы"
      ]
    },
    {
      "cell_type": "markdown",
      "metadata": {
        "id": "_KymG4THksSB"
      },
      "source": [
        "## 8. Логические операторы and и or"
      ]
    },
    {
      "cell_type": "code",
      "execution_count": null,
      "metadata": {
        "id": "d7jn2CK2ksSB"
      },
      "outputs": [],
      "source": [
        "True and True"
      ]
    },
    {
      "cell_type": "code",
      "execution_count": null,
      "metadata": {
        "id": "CO1yLeiqksSC"
      },
      "outputs": [],
      "source": [
        "True and False"
      ]
    },
    {
      "cell_type": "code",
      "execution_count": null,
      "metadata": {
        "id": "IO4XFqi6ksSC"
      },
      "outputs": [],
      "source": [
        "True or False"
      ]
    },
    {
      "cell_type": "code",
      "execution_count": null,
      "metadata": {
        "id": "D3T7BM_YksSC"
      },
      "outputs": [],
      "source": [
        "not True"
      ]
    },
    {
      "cell_type": "code",
      "execution_count": null,
      "metadata": {
        "id": "tZgYPgY7ksSC"
      },
      "outputs": [],
      "source": [
        "((9 > 7) and (2 < 4))"
      ]
    },
    {
      "cell_type": "code",
      "execution_count": null,
      "metadata": {
        "id": "_A077z8nksSC"
      },
      "outputs": [],
      "source": [
        "(8 == 8) or (6 != 6)"
      ]
    },
    {
      "cell_type": "code",
      "execution_count": null,
      "metadata": {
        "id": "t9oAzz6tksSC"
      },
      "outputs": [],
      "source": [
        "not(3 <= 1)"
      ]
    },
    {
      "cell_type": "code",
      "execution_count": null,
      "metadata": {
        "id": "CMBS0-JmksSC"
      },
      "outputs": [],
      "source": [
        "age = 15\n",
        "height = 180\n",
        "\n",
        "if height < 170 and age >= 18:\n",
        "    print('Группа моделей до 170 см и возраст больше 18 лет')\n",
        "elif height < 185 and age >= 18:\n",
        "    print('Группа моделей до 185 см и возраст больше 18 лет')\n",
        "elif height < 200 and age >= 18:\n",
        "    print('Группа моделей до 200 см и возраст больше 18 лет')\n",
        "else:\n",
        "    print('В другую группу моделей')\n",
        "print('Конец программы')"
      ]
    },
    {
      "cell_type": "code",
      "execution_count": null,
      "metadata": {
        "tags": [],
        "id": "SfIAdjUFksSC"
      },
      "outputs": [],
      "source": [
        "age = 21\n",
        "if age >= 18:\n",
        "    user_input = int(input('Введите рост'))\n",
        "    if user_input < 170:\n",
        "        print('Группа моделей до 170 см и возраст больше 18 лет')\n",
        "    elif user_input < 185:\n",
        "        print('Группа моделей до 185 см и возраст больше 18 лет')\n",
        "    elif user_input < 200:\n",
        "        print('Группа моделей до 200 см и возраст больше 18 лет')\n",
        "    else:\n",
        "        print('В другую группу моделей')\n",
        "else:\n",
        "    print('В модели не подходит')\n",
        "print('Конец программы')"
      ]
    },
    {
      "cell_type": "markdown",
      "metadata": {
        "id": "gnyY_TndULIU"
      },
      "source": [
        "## Ваши вопросы"
      ]
    },
    {
      "cell_type": "markdown",
      "metadata": {
        "id": "ZWZHkthZksSD"
      },
      "source": [
        "## Итоги занятия"
      ]
    },
    {
      "cell_type": "markdown",
      "metadata": {
        "id": "R9UkNLL_ksSD"
      },
      "source": [
        "Расширили область знаний в части компонента Jupyter Notebook, бинарных и унарных операций, переменных, условных конструкций"
      ]
    },
    {
      "cell_type": "markdown",
      "metadata": {
        "tags": [],
        "id": "iHa09MJ9ksSD"
      },
      "source": [
        "## Ваши вопросы"
      ]
    }
  ],
  "metadata": {
    "kernelspec": {
      "display_name": "Python 3",
      "language": "python",
      "name": "python3"
    },
    "language_info": {
      "codemirror_mode": {
        "name": "ipython",
        "version": 3
      },
      "file_extension": ".py",
      "mimetype": "text/x-python",
      "name": "python",
      "nbconvert_exporter": "python",
      "pygments_lexer": "ipython3",
      "version": "3.7.2"
    },
    "colab": {
      "provenance": []
    }
  },
  "nbformat": 4,
  "nbformat_minor": 0
}