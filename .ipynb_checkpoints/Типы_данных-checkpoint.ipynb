{
  "cells": [
    {
      "cell_type": "markdown",
      "metadata": {
        "id": "inA2Q8YwksRn"
      },
      "source": [
        "# Вебинар. Подробный разбор типов данных: плюсы и минусы, преимущества и недостатки"
      ]
    },
    {
      "cell_type": "markdown",
      "metadata": {
        "id": "pbcH57-MksRr",
        "tags": []
      },
      "source": [
        "## Проверка связи"
      ]
    },
    {
      "cell_type": "markdown",
      "metadata": {
        "id": "xINEc2zFksRr"
      },
      "source": [
        "**Если у вас нет звука:**\n",
        "- убедитесь, что на вашем устройстве\n",
        "и на колонках включён звук\n",
        "- обновите страницу вебинара или закройте страницу и заново присоединитесь к вебинару\n",
        "- откройте вебинар в другом браузере\n",
        "- перезагрузите ваше устройство\n",
        "и  попытайтесь войти снова\n"
      ]
    },
    {
      "cell_type": "markdown",
      "metadata": {
        "id": "aq_cAJwVksRs"
      },
      "source": [
        "**Поставьте в чат:**<br>\n",
        "\\+ — если меня видно и слышно<br>\n",
        "– — если нет"
      ]
    },
    {
      "cell_type": "markdown",
      "metadata": {
        "id": "lGmyF92MksRs"
      },
      "source": [
        "## О спикере"
      ]
    },
    {
      "cell_type": "markdown",
      "metadata": {
        "id": "IQ5tPuttksRt",
        "tags": []
      },
      "source": [
        "# **Филипп Воронов**\n",
        "- тимлид в VK\n",
        "- преподаватель в Нетологии, Яндекс Практикуме, Университете ИТМО, GeekBrains, Computer Science Center, Bang Bang Education"
      ]
    },
    {
      "cell_type": "markdown",
      "metadata": {
        "id": "jeTexD3tksRt"
      },
      "source": [
        "## Правила участия"
      ]
    },
    {
      "cell_type": "markdown",
      "metadata": {
        "id": "2kvQyqS9ksRt",
        "tags": []
      },
      "source": [
        "1. Продолжительность вебинара — 80 минут. Через 40 минут сделаем перерыв на 5 минут\n",
        "2. Запустите Jupyter Notebook / Google Colab / IDE для выполнения практических заданий вебинара. Во время демонстрации работы повторяйте за спикером: так вы лучше поймёте материал\n",
        "3. Вопросы и уточнения:\n",
        "  - создайте копию этого блокнота, чтобы фиксировать вопросы и важную информацию во время занятия\n",
        "  - вы можете писать вопросы в чате во время вебинара или озвучивать их в блоке «Ваши вопросы»\n",
        "4. Запись вебинара будет доступна в личном кабинете\n",
        "- Продолжительность вебинара — 1,5 часа\n",
        "- Вы можете писать свои вопросы в чате или задавать их вслух\n",
        "- Запись вебинара будет доступна в личном кабинете"
      ]
    },
    {
      "cell_type": "markdown",
      "metadata": {
        "id": "JFQrFju9ksRu"
      },
      "source": [
        "## Цель занятия"
      ]
    },
    {
      "cell_type": "markdown",
      "metadata": {
        "id": "p8Pbfc0eksRv",
        "tags": []
      },
      "source": [
        "Расширить знания о существующих типах данных\n",
        "\n",
        "\n"
      ]
    },
    {
      "cell_type": "markdown",
      "metadata": {
        "id": "y0L-W3AYksRv"
      },
      "source": [
        "## План занятия"
      ]
    },
    {
      "cell_type": "markdown",
      "metadata": {
        "id": "nUBc6G7rksRv"
      },
      "source": [
        "[1. Простые типы данных](#1.-Простые-типы-данных)<br>\n",
        "[2. Преобразование типов](#2.-Преобразование-типов)<br>\n",
        "[3. Циклы while, for](#3.-Циклы-while,-for)<br>\n",
        "[4. Пример алгоритма](#4.-Пример-алгоритма)<br>\n"
      ]
    },
    {
      "cell_type": "markdown",
      "metadata": {
        "id": "CxE3zVrXksRv"
      },
      "source": [
        "## Ваши вопросы"
      ]
    },
    {
      "cell_type": "markdown",
      "metadata": {
        "id": "yvWq9j9zksRv"
      },
      "source": [
        "## 1. Простые типы данных"
      ]
    },
    {
      "cell_type": "code",
      "execution_count": null,
      "metadata": {
        "id": "Lb0cqu5Ba0ap"
      },
      "outputs": [],
      "source": [
        "my_integer = 10\n",
        "type(my_integer)"
      ]
    },
    {
      "cell_type": "code",
      "execution_count": null,
      "metadata": {
        "id": "dkWnIRMia0ar"
      },
      "outputs": [],
      "source": [
        "my_float = 5.5\n",
        "type(my_float)"
      ]
    },
    {
      "cell_type": "code",
      "execution_count": null,
      "metadata": {
        "id": "VOSoqDmca0as"
      },
      "outputs": [],
      "source": [
        "type(5)"
      ]
    },
    {
      "cell_type": "code",
      "execution_count": null,
      "metadata": {
        "id": "uNk4QHOia0at"
      },
      "outputs": [],
      "source": [
        "my_string = 'Hello World!'\n",
        "my_string_2 = \"Hello World\"\n",
        "type(my_string_2)"
      ]
    },
    {
      "cell_type": "code",
      "execution_count": null,
      "metadata": {
        "id": "73xzSb91a0au"
      },
      "outputs": [],
      "source": [
        "my_bool = True\n",
        "# my_bool = False\n",
        "type(my_bool)"
      ]
    },
    {
      "cell_type": "code",
      "execution_count": null,
      "metadata": {
        "id": "XWnrGNtza0a0"
      },
      "outputs": [],
      "source": [
        "x = 5\n",
        "y = 1\n",
        "print(type(x > y))"
      ]
    },
    {
      "cell_type": "code",
      "execution_count": null,
      "metadata": {
        "tags": [],
        "id": "EpxG-KJUa0a2"
      },
      "outputs": [],
      "source": [
        "# Тип None"
      ]
    },
    {
      "cell_type": "code",
      "execution_count": null,
      "metadata": {
        "id": "61LZ-o_Ta0a3"
      },
      "outputs": [],
      "source": [
        "var = None"
      ]
    },
    {
      "cell_type": "markdown",
      "metadata": {
        "id": "ox16OdLba0a4"
      },
      "source": [
        "## Ваши вопросы"
      ]
    },
    {
      "cell_type": "markdown",
      "metadata": {
        "tags": [],
        "id": "npWdXEXaa0a4"
      },
      "source": [
        "## 2. Преобразование типов"
      ]
    },
    {
      "cell_type": "code",
      "execution_count": null,
      "metadata": {
        "id": "tHbpipKda0a5"
      },
      "outputs": [],
      "source": [
        "# преобразование типов\n",
        "salary = 1000\n",
        "print('Ваша годовая зарплата составляет ', salary, ' условных единиц')"
      ]
    },
    {
      "cell_type": "code",
      "execution_count": null,
      "metadata": {
        "id": "3THZT7dSa0a6"
      },
      "outputs": [],
      "source": [
        "type(str(salary))"
      ]
    },
    {
      "cell_type": "code",
      "execution_count": null,
      "metadata": {
        "id": "OioF14d2a0a6"
      },
      "outputs": [],
      "source": [
        "print('Ваша годовая зарплата составляет ' + str(salary) + ' условных единиц')"
      ]
    },
    {
      "cell_type": "code",
      "execution_count": null,
      "metadata": {
        "id": "tji4criva0a7"
      },
      "outputs": [],
      "source": [
        "int('1000') + 100"
      ]
    },
    {
      "cell_type": "code",
      "execution_count": null,
      "metadata": {
        "id": "mbff_wjba0a8"
      },
      "outputs": [],
      "source": [
        "# неявное преобразование типов\n",
        "print(1 + False)\n",
        "# print(20 / 5.1)"
      ]
    },
    {
      "cell_type": "code",
      "execution_count": null,
      "metadata": {
        "tags": [],
        "id": "Fbtffugca0a9",
        "outputId": "fe6b284d-0e07-4581-d04f-e9fa45074182"
      },
      "outputs": [
        {
          "name": "stdout",
          "output_type": "stream",
          "text": [
            "123\n"
          ]
        }
      ],
      "source": [
        "if not None: print(123)"
      ]
    },
    {
      "cell_type": "code",
      "execution_count": null,
      "metadata": {
        "tags": [],
        "id": "NZGWb-UFa0bG",
        "outputId": "5ebf75b2-76c1-401b-83ee-ef77df50fb57"
      },
      "outputs": [
        {
          "data": {
            "text/plain": [
              "True"
            ]
          },
          "execution_count": 8,
          "metadata": {},
          "output_type": "execute_result"
        }
      ],
      "source": [
        "not None"
      ]
    },
    {
      "cell_type": "markdown",
      "metadata": {
        "id": "oNTfbs5Aa0bI"
      },
      "source": [
        "## Ваши вопросы"
      ]
    },
    {
      "cell_type": "markdown",
      "metadata": {
        "id": "OSifIqy1a0bT"
      },
      "source": [
        "## 3. Циклы while, for"
      ]
    },
    {
      "cell_type": "markdown",
      "metadata": {
        "id": "QHebzLjBa0bV"
      },
      "source": [
        "- While — итерационный цикл\n",
        "- For — счётный цикл"
      ]
    },
    {
      "cell_type": "code",
      "execution_count": null,
      "metadata": {
        "tags": [],
        "id": "GqJEgTNSa0bX"
      },
      "outputs": [],
      "source": [
        "x = 5\n",
        "while x != 0:\n",
        "    x -= 1\n",
        "    print(x)\n",
        "    # break\n",
        "\n",
        "print('Я прекратил работу')"
      ]
    },
    {
      "cell_type": "code",
      "execution_count": null,
      "metadata": {
        "tags": [],
        "id": "CuWm7xbga0ba"
      },
      "outputs": [],
      "source": [
        "x = 7\n",
        "while x != 0:\n",
        "    if x % 2 == 0:\n",
        "        print(x, '- четное число')\n",
        "    else:\n",
        "        print(x, '- нечетное число')\n",
        "    x = x - 1"
      ]
    },
    {
      "cell_type": "code",
      "execution_count": null,
      "metadata": {
        "id": "zsG6ZQsfa0bb"
      },
      "outputs": [],
      "source": [
        "# итерация по строкам\n",
        "company_name = 'Orange'\n",
        "for letter in company_name:\n",
        "    print(letter)\n",
        "#     letter = letter.capitalize()\n",
        "#     print(letter)\n",
        "# print(letter)"
      ]
    },
    {
      "cell_type": "code",
      "execution_count": null,
      "metadata": {
        "tags": [],
        "id": "rRZAPsqka0bd"
      },
      "outputs": [],
      "source": [
        "for company in companies_capitalization:\n",
        "#     print(company)\n",
        "    print(company[0], 'capitalization is', company[1])\n",
        "#     print('end of iteration')"
      ]
    },
    {
      "cell_type": "code",
      "execution_count": null,
      "metadata": {
        "tags": [],
        "id": "W7AIqUska0bn"
      },
      "outputs": [],
      "source": [
        "# break, pass, continue\n",
        "phrase = '640кБ должно хватить для любых задач. Билл Гейтс (по легенде)'"
      ]
    },
    {
      "cell_type": "code",
      "execution_count": null,
      "metadata": {
        "tags": [],
        "id": "ac3WZiESa0bo"
      },
      "outputs": [],
      "source": [
        "for letter in phrase:\n",
        "    if letter == ' ':\n",
        "        break\n",
        "    print(letter, end='')"
      ]
    },
    {
      "cell_type": "code",
      "execution_count": null,
      "metadata": {
        "tags": [],
        "id": "DF-HOHiva0bp"
      },
      "outputs": [],
      "source": [
        "for letter in phrase:\n",
        "    if letter == ' ':\n",
        "        continue\n",
        "    print(letter)\n",
        "print('finish loop')"
      ]
    },
    {
      "cell_type": "code",
      "execution_count": null,
      "metadata": {
        "tags": [],
        "id": "tMUV5hp4a0bq"
      },
      "outputs": [],
      "source": [
        "for letter in phrase:\n",
        "    if letter == ' ':\n",
        "        pass\n",
        "    print(letter)\n",
        "print('finish loop')"
      ]
    },
    {
      "cell_type": "code",
      "execution_count": null,
      "metadata": {
        "id": "HnYZEtgva0br"
      },
      "outputs": [],
      "source": [
        "# Функции range и enumerate"
      ]
    },
    {
      "cell_type": "code",
      "execution_count": null,
      "metadata": {
        "id": "7NjYIHU7a0br"
      },
      "outputs": [],
      "source": [
        "range(10)\n",
        "type(range(10))"
      ]
    },
    {
      "cell_type": "code",
      "execution_count": null,
      "metadata": {
        "id": "VNiyqsy5a0bs"
      },
      "outputs": [],
      "source": [
        "list(range(2, 10, 5))"
      ]
    },
    {
      "cell_type": "code",
      "execution_count": null,
      "metadata": {
        "id": "ag8rm5Zha0bt"
      },
      "outputs": [],
      "source": [
        "range(10**12)"
      ]
    },
    {
      "cell_type": "code",
      "execution_count": null,
      "metadata": {
        "id": "t7S-copta0bu"
      },
      "outputs": [],
      "source": [
        "for i in range(10):\n",
        "    print(i)"
      ]
    },
    {
      "cell_type": "code",
      "execution_count": null,
      "metadata": {
        "id": "nhB0WzNka0bv"
      },
      "outputs": [],
      "source": [
        "# с указанием левой и правой границы\n",
        "for i in range(3, 20):\n",
        "    print(i)"
      ]
    },
    {
      "cell_type": "code",
      "execution_count": null,
      "metadata": {
        "id": "hseWifTTa0bw"
      },
      "outputs": [],
      "source": [
        "# третий аргумент — шаг\n",
        "for i in range(3, 20, 5):\n",
        "    print(i)"
      ]
    },
    {
      "cell_type": "code",
      "execution_count": null,
      "metadata": {
        "id": "PvSx0WIGa0b4"
      },
      "outputs": [],
      "source": [
        "# enumerate позволяет получить индекс каждого элемента\n",
        "# enumerate([1, 2, 3, 4, 5])\n",
        "list(enumerate([1, 2, 3, 4, 5]))"
      ]
    },
    {
      "cell_type": "code",
      "execution_count": null,
      "metadata": {
        "id": "nqezAs_wa0b5"
      },
      "outputs": [],
      "source": [
        "companies_capitalization = [\n",
        "    ['Orange', 1.3],\n",
        "    ['Maxisoft', 1.5],\n",
        "    ['Headbook', 0.8],\n",
        "    ['Nicola', 2.2]\n",
        "]\n",
        "\n",
        "for i, company in enumerate(companies_capitalization):\n",
        "    print(i+1, company[0], 'capitalization is', company[1])"
      ]
    },
    {
      "cell_type": "code",
      "execution_count": null,
      "metadata": {
        "id": "dZ-7Ro2ya0b6"
      },
      "outputs": [],
      "source": [
        "for i, company in enumerate(companies_capitalization):\n",
        "    print(company)\n",
        "\n",
        "    if i > 2:\n",
        "        break"
      ]
    },
    {
      "cell_type": "markdown",
      "metadata": {
        "id": "RiNMa1w2UCgR"
      },
      "source": [
        "## Ваши вопросы"
      ]
    },
    {
      "cell_type": "markdown",
      "metadata": {
        "id": "8Y1Y6JGYksRy"
      },
      "source": [
        "## 4. Пример алгоритма"
      ]
    },
    {
      "cell_type": "markdown",
      "metadata": {
        "id": "yswe2rGKa0cE"
      },
      "source": [
        "Имеется структура данных cook_book, где хранится информация об ингредиентах блюд и их количестве в расчёте на одну порцию, и переменная, где хранится количество людей, на которых необходимо приготовить эти блюда:"
      ]
    },
    {
      "cell_type": "code",
      "execution_count": null,
      "metadata": {
        "id": "CQIjUA8ya0cG"
      },
      "outputs": [],
      "source": [
        "cook_book = [\n",
        "  ['салат',\n",
        "      [\n",
        "        ['картофель', 100, 'г'],\n",
        "        ['морковь', 50, 'г'],\n",
        "        ['огурцы', 50, 'г'],\n",
        "        ['горошек', 30, 'г'],\n",
        "        ['майонез', 70, 'мл'],\n",
        "      ]\n",
        "  ],\n",
        "  ['пицца',\n",
        "      [\n",
        "        ['сыр', 50, 'г'],\n",
        "        ['томаты', 50, 'г'],\n",
        "        ['тесто', 100, 'г'],\n",
        "        ['бекон', 30, 'г'],\n",
        "        ['колбаса', 30, 'г'],\n",
        "        ['грибы', 20, 'г'],\n",
        "      ],\n",
        "  ],\n",
        "  ['фруктовый десерт',\n",
        "      [\n",
        "        ['хурма', 60, 'г'],\n",
        "        ['киви', 60, 'г'],\n",
        "        ['творог', 60, 'г'],\n",
        "        ['сахар', 10, 'г'],\n",
        "        ['мёд', 50, 'мл'],\n",
        "      ]\n",
        "  ]\n",
        "]\n"
      ]
    },
    {
      "cell_type": "code",
      "execution_count": null,
      "metadata": {
        "id": "zloRZaLUa0cI"
      },
      "outputs": [],
      "source": [
        "person = 5"
      ]
    },
    {
      "cell_type": "markdown",
      "metadata": {
        "id": "KPsF2ZJZa0cK"
      },
      "source": [
        "Нужно вывести пользователю список покупок необходимого количества ингредиентов для приготовления блюд на определённое число персон в следующем виде:"
      ]
    },
    {
      "cell_type": "markdown",
      "metadata": {
        "id": "bfRWQA7ba0cK"
      },
      "source": [
        "Салат:  \n",
        "- картофель, 500 г  \n",
        "- морковь, 250 г  \n",
        "- огурцы, 250 г  \n",
        "- горошек, 150 г  \n",
        "-майонез, 350 мл  \n",
        "\n",
        "Пицца:  \n",
        "- сыр, 250 г  \n",
        "- томаты, 250 г  \n",
        "- тесто, 500 г  \n",
        "- бекон, 150 г  \n",
        "- колбаса, 150 г  \n",
        "- грибы, 100 г  \n",
        "\n",
        "Фруктовый десерт:  \n",
        "- хурма, 300 г  \n",
        "-киви, 300 г  \n",
        "- творог, 300 г  \n",
        "- сахар, 50 г\n",
        "- мёд, 250 мл  "
      ]
    },
    {
      "cell_type": "code",
      "execution_count": null,
      "metadata": {
        "id": "aArolI8Aa0cM"
      },
      "outputs": [],
      "source": [
        "for item in cook_book:\n",
        "    print(item[0].capitalize())\n",
        "\n",
        "    for line in item[1]:\n",
        "        meal, weight, gr = line\n",
        "        weight = weight * person\n",
        "\n",
        "        print(meal, weight, gr)\n",
        "\n",
        "    print('')"
      ]
    },
    {
      "cell_type": "markdown",
      "metadata": {
        "id": "GBKAbsinUEPR"
      },
      "source": [
        "## Ваши вопросы"
      ]
    },
    {
      "cell_type": "markdown",
      "metadata": {
        "id": "ZWZHkthZksSD"
      },
      "source": [
        "## Итоги занятия"
      ]
    },
    {
      "cell_type": "markdown",
      "metadata": {
        "id": "R9UkNLL_ksSD"
      },
      "source": [
        "\n",
        "Расширили знания о существующих типах данных"
      ]
    },
    {
      "cell_type": "markdown",
      "metadata": {
        "id": "iHa09MJ9ksSD",
        "tags": []
      },
      "source": [
        "## Ваши вопросы"
      ]
    }
  ],
  "metadata": {
    "colab": {
      "provenance": []
    },
    "kernelspec": {
      "display_name": "Python 3",
      "language": "python",
      "name": "python3"
    },
    "language_info": {
      "codemirror_mode": {
        "name": "ipython",
        "version": 3
      },
      "file_extension": ".py",
      "mimetype": "text/x-python",
      "name": "python",
      "nbconvert_exporter": "python",
      "pygments_lexer": "ipython3",
      "version": "3.7.2"
    }
  },
  "nbformat": 4,
  "nbformat_minor": 0
}