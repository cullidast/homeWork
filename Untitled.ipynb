{
 "cells": [
  {
   "cell_type": "code",
   "execution_count": 1,
   "id": "b615e477-c1e9-4b64-a16f-48c65e9477cc",
   "metadata": {},
   "outputs": [
    {
     "name": "stdout",
     "output_type": "stream",
     "text": [
      "Високосный год year = 2024\n"
     ]
    }
   ],
   "source": [
    "# Вводим год\n",
    "year = 2024\n",
    "\n",
    "# Проверяем условия високосного года\n",
    "if year % 400 == 0:  # Если делится на 400 — високосный\n",
    "    print(f\"Високосный год year = {year}\")\n",
    "elif year % 100 == 0:  # Если делится на 100, но не на 400 — обычный\n",
    "    print(f\"Обычный год year = {year}\")\n",
    "elif year % 4 == 0:  # Если делится на 4, но не на 100 — високосный\n",
    "    print(f\"Високосный год year = {year}\")\n",
    "else:\n",
    "    print(f\"Обычный год year = {year}\")"
   ]
  },
  {
   "cell_type": "code",
   "execution_count": null,
   "id": "b4acf2ee-2f26-42d4-b4e6-cdbc901b3604",
   "metadata": {},
   "outputs": [],
   "source": []
  },
  {
   "cell_type": "code",
   "execution_count": null,
   "id": "209e8a71-300a-4128-ab36-3b24bc7576d8",
   "metadata": {},
   "outputs": [],
   "source": []
  }
 ],
 "metadata": {
  "kernelspec": {
   "display_name": "Python 3 (ipykernel)",
   "language": "python",
   "name": "python3"
  },
  "language_info": {
   "codemirror_mode": {
    "name": "ipython",
    "version": 3
   },
   "file_extension": ".py",
   "mimetype": "text/x-python",
   "name": "python",
   "nbconvert_exporter": "python",
   "pygments_lexer": "ipython3",
   "version": "3.12.4"
  }
 },
 "nbformat": 4,
 "nbformat_minor": 5
}
