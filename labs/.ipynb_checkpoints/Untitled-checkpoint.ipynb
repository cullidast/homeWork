{
 "cells": [
  {
   "cell_type": "code",
   "execution_count": 7,
   "id": "9ee3b679-04f8-4e06-8a84-891817387814",
   "metadata": {},
   "outputs": [
    {
     "name": "stdout",
     "output_type": "stream",
     "text": [
      "[{'type': 'passport', 'number': '2207 876234', 'name': 'Василий Гупкин'}, {'type': 'invoice', 'number': '11-2', 'name': 'Геннадий Покемонов'}, {'type': 'insurance', 'number': '10006', 'name': 'Аристарх Павлов'}]\n"
     ]
    }
   ],
   "source": [
    "documents = [\n",
    "    {'type': 'passport', 'number': '2207 876234', 'name': 'Василий Гупкин'},\n",
    "    {'type': 'invoice', 'number': '11-2', 'name': 'Геннадий Покемонов'},\n",
    "    {'type': 'insurance', 'number': '10006', 'name': 'Аристарх Павлов'}\n",
    "]"
   ]
  },
  {
   "cell_type": "code",
   "execution_count": 45,
   "id": "85430508-d807-4964-955f-4db8a3cbd57e",
   "metadata": {},
   "outputs": [
    {
     "name": "stdout",
     "output_type": "stream",
     "text": [
      "Список документов:\n",
      "[{'type': 'passport', 'number': '2207 876234', 'name': 'Василий Гупкин'}, {'type': 'invoice', 'number': '11-2', 'name': 'Геннадий Покемонов'}, {'type': 'insurance', 'number': '10006', 'name': 'Аристарх Павлов'}]\n"
     ]
    }
   ],
   "source": [
    "#Вывод всего списка документов\n",
    "print(\"Список документов:\")\n",
    "print(documents)"
   ]
  },
  {
   "cell_type": "code",
   "execution_count": 47,
   "id": "1dc4bae1-b5f1-4329-9cee-326fab8e7a57",
   "metadata": {},
   "outputs": [
    {
     "name": "stdout",
     "output_type": "stream",
     "text": [
      "{'type': 'passport', 'number': '2207 876234', 'name': 'Василий Гупкин'}\n"
     ]
    }
   ],
   "source": [
    "# Вывод первого документиа\n",
    "print(documents[0])"
   ]
  },
  {
   "cell_type": "code",
   "execution_count": 118,
   "id": "51c5c498-2599-4e69-ba8b-732a6e15ce08",
   "metadata": {},
   "outputs": [
    {
     "name": "stdout",
     "output_type": "stream",
     "text": [
      "\n",
      "Первый документ\n",
      "{'type': 'insurance', 'number': {...}, 'name': 'Аристарх Павлов'}\n"
     ]
    }
   ],
   "source": [
    "# Вывод первого документа сновой строчки\n",
    "print(\"\\nПервый документ\")\n",
    "print(documents[0])"
   ]
  },
  {
   "cell_type": "code",
   "execution_count": 110,
   "id": "9cc36e14-5845-49df-9f28-8636e436f4bd",
   "metadata": {},
   "outputs": [
    {
     "name": "stdout",
     "output_type": "stream",
     "text": [
      "\n",
      "Владелец первого документа: Василий Гупкин\n"
     ]
    }
   ],
   "source": [
    "# Вывод имени владельца первого документа\n",
    "get_owner_name = documents[0] ['name']\n",
    "print(f\"\\nВладелец первого документа: {get_owner_name}\")"
   ]
  },
  {
   "cell_type": "code",
   "execution_count": 128,
   "id": "200940e6-7988-467b-b4bf-795b569cd54f",
   "metadata": {},
   "outputs": [
    {
     "name": "stdout",
     "output_type": "stream",
     "text": [
      "\n",
      "Номера всех документов:\n",
      "2207 876234\n",
      "11-2\n",
      "{'type': 'insurance', 'number': {...}, 'name': 'Аристарх Павлов'}\n"
     ]
    }
   ],
   "source": [
    "# Вывод всех номеров документов\n",
    "print(\"\\nНомера всех документов:\")\n",
    "for doc in documents:\n",
    "    print(doc['number'])"
   ]
  },
  {
   "cell_type": "code",
   "execution_count": 120,
   "id": "d3914fd9-ccd6-4182-b9e4-43e7bfe4cb5b",
   "metadata": {},
   "outputs": [],
   "source": [
    "# функция  для поиска документа по номеру\n",
    "def find_document_by_number(doc_number):\n",
    "    for doc['number'] in documents:\n",
    "        if doc['number'] == doc_number:\n",
    "            return doc\n",
    "    return None"
   ]
  },
  {
   "cell_type": "code",
   "execution_count": 122,
   "id": "fdebafd6-3021-492b-bcc9-16b3804748ad",
   "metadata": {},
   "outputs": [],
   "source": [
    "search_number = '11-2'\n",
    "found_doc = find_document_by_number(search_number)"
   ]
  },
  {
   "cell_type": "code",
   "execution_count": 130,
   "id": "0742a0dc-4a0a-41d9-b1a6-24a3ed26fd6d",
   "metadata": {},
   "outputs": [
    {
     "name": "stdout",
     "output_type": "stream",
     "text": [
      "\n",
      "Документ с таким номером не найден\n"
     ]
    }
   ],
   "source": [
    "if found_doc:\n",
    "    printf(f\"\\nДокумент найден: {found_doc}\")\n",
    "else:\n",
    "    print(\"\\nДокумент с таким номером не найден\")"
   ]
  },
  {
   "cell_type": "code",
   "execution_count": null,
   "id": "ba553e5e-c621-4161-aa62-2bcb5316c31d",
   "metadata": {},
   "outputs": [],
   "source": []
  },
  {
   "cell_type": "code",
   "execution_count": null,
   "id": "52fc75c4-e488-47b7-95bb-5967dc5c1d68",
   "metadata": {},
   "outputs": [],
   "source": []
  },
  {
   "cell_type": "code",
   "execution_count": null,
   "id": "ade34954-9d0b-455f-a7c4-bb3de6b32894",
   "metadata": {},
   "outputs": [],
   "source": []
  },
  {
   "cell_type": "code",
   "execution_count": null,
   "id": "11ff682c-c5e5-44d6-aa6c-4546a3cbf2d8",
   "metadata": {},
   "outputs": [],
   "source": [
    "#documents = [\n",
    "#    {'type': 'passport', 'number': '2207 876234', 'name': 'Василий Гупкин'},\n",
    "#    {'type': 'invoice', 'number': '11-2', 'name': 'Геннадий Покемонов'},\n",
    "#    {'type': 'insurance', 'number': '10006', 'name': 'Аристарх Павлов'}\n",
    "#]\n"
   ]
  },
  {
   "cell_type": "code",
   "execution_count": null,
   "id": "24d4b1db-56ff-4f2a-af49-4550d4cd1467",
   "metadata": {},
   "outputs": [],
   "source": []
  },
  {
   "cell_type": "code",
   "execution_count": null,
   "id": "21689e75-f5c7-4471-abca-d8d0a794656d",
   "metadata": {},
   "outputs": [],
   "source": []
  }
 ],
 "metadata": {
  "kernelspec": {
   "display_name": "Python 3 (ipykernel)",
   "language": "python",
   "name": "python3"
  },
  "language_info": {
   "codemirror_mode": {
    "name": "ipython",
    "version": 3
   },
   "file_extension": ".py",
   "mimetype": "text/x-python",
   "name": "python",
   "nbconvert_exporter": "python",
   "pygments_lexer": "ipython3",
   "version": "3.12.4"
  }
 },
 "nbformat": 4,
 "nbformat_minor": 5
}
