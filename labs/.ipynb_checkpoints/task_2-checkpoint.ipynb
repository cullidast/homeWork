{
 "cells": [
  {
   "cell_type": "markdown",
   "id": "1a40ae1e-3182-4d0f-9e2b-ff3ee03622e6",
   "metadata": {},
   "source": [
    "<p style=\"font-size:20px;\"><b>Задание 1</b></p>\r\n",
    "<p style=\"font-size:18px;\">Напишите код на Python в среде Jupyter Notebook или PyCharm для решения следующей задачи.</p>\r\n",
    "<p style=\"font-size:16px;\">Дана переменная, в которой хранится слово из латинских букв.</p>\r\n",
    "<p style=\"font-size:16px;\">Напишите код, который выводит на экран:</p>\r\n",
    "<ul style=\"font-size:16px;\">\r\n",
    "    <li>среднюю букву, если число букв в слове нечётное;</li>\r\n",
    "    <li>две средних буквы, если число букв чётное.</li>\r\n",
    "</ul>\r\n",
    "<p style=\"font-size:16px;\">Пример работы программы:</p>\r\n",
    "<ul style=\"font-size:16px;\">\r\n",
    "    <li>word = 'test'<br>Результат: es</li>\r\n",
    "    <li>word = 'testing'<br>Результат: t</li>\r\n",
    "</ul>\r\n"
   ]
  },
  {
   "cell_type": "code",
   "execution_count": 60,
   "id": "98d73d32-5234-478f-b796-fb4708fca5c3",
   "metadata": {},
   "outputs": [
    {
     "name": "stdout",
     "output_type": "stream",
     "text": [
      "Результат: e\n"
     ]
    }
   ],
   "source": [
    "word = 'tew'  \n",
    "\n",
    "length = len(word)\n",
    "\n",
    "if length % 2 == 0:\n",
    "    result = word[length // 2 - 1:length // 2 + 1]\n",
    "else:\n",
    "    result = word[length // 2]\n",
    "    \n",
    "print(\"Результат:\", result)"
   ]
  },
  {
   "cell_type": "code",
   "execution_count": null,
   "id": "a325673a-a218-4a10-aa5e-3a0dc3fd18f7",
   "metadata": {},
   "outputs": [],
   "source": []
  }
 ],
 "metadata": {
  "kernelspec": {
   "display_name": "Python 3 (ipykernel)",
   "language": "python",
   "name": "python3"
  },
  "language_info": {
   "codemirror_mode": {
    "name": "ipython",
    "version": 3
   },
   "file_extension": ".py",
   "mimetype": "text/x-python",
   "name": "python",
   "nbconvert_exporter": "python",
   "pygments_lexer": "ipython3",
   "version": "3.12.4"
  }
 },
 "nbformat": 4,
 "nbformat_minor": 5
}
