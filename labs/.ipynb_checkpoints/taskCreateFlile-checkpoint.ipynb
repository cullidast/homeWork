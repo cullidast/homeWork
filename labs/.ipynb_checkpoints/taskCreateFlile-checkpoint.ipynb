{
 "cells": [
  {
   "cell_type": "code",
   "execution_count": null,
   "id": "7beaae10-b943-4083-a067-b13e61f4ed35",
   "metadata": {},
   "outputs": [],
   "source": [
    "import csv\n",
    "\n",
    "# Укажите путь к файлу\n",
    "input_file = \"visit_log.csv\"\n",
    "\n",
    "# Пример данных\n",
    "data = [\n",
    "    [\"user_id\", \"source\", \"category\"],\n",
    "    [\"1840e0b9d4\", \"other\", \"Продукты\"],\n",
    "    [\"4e4f90fcfb\", \"context\", \"Электроника\"],\n",
    "    [\"afea8eaa9f\", \"email\", \"\"],\n",
    "    [\"b4ab4a6212\", \"other\", \"Товары для дома\"],\n",
    "    [\"9bdfabdea8\", \"email\", \"Электроника\"]\n",
    "]\n",
    "\n",
    "# Запись данных в файл\n",
    "with open(input_file, 'w', encoding='utf-8', newline='') as file:\n",
    "    writer = csv.writer(file)\n",
    "    writer.writerows(data)\n",
    "\n",
    "print(f\"Файл {input_file} успешно создан и заполнен данными.\")\n"
   ]
  }
 ],
 "metadata": {
  "kernelspec": {
   "display_name": "Python 3 (ipykernel)",
   "language": "python",
   "name": "python3"
  },
  "language_info": {
   "codemirror_mode": {
    "name": "ipython",
    "version": 3
   },
   "file_extension": ".py",
   "mimetype": "text/x-python",
   "name": "python",
   "nbconvert_exporter": "python",
   "pygments_lexer": "ipython3",
   "version": "3.12.4"
  }
 },
 "nbformat": 4,
 "nbformat_minor": 5
}
