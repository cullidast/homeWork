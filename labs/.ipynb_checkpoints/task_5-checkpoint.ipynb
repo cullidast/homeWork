{
 "cells": [
  {
   "cell_type": "code",
   "execution_count": null,
   "id": "762956ad-3d36-4dc1-8eac-960cc4d0b08a",
   "metadata": {},
   "outputs": [],
   "source": [
    "from datetime import datetime\n",
    "\n",
    "# Дата для The Moscow Times\n",
    "moscow_times_date = \"Wednesday, October 2, 2002\"\n",
    "moscow_times_format = \"%A, %B %d, %Y\"\n",
    "moscow_times_datetime = datetime.strptime(moscow_times_date, moscow_times_format)\n",
    "print(\"The Moscow Times:\", moscow_times_datetime)\n",
    "\n",
    "# Дата для The Guardian\n",
    "guardian_format = \"%A, %d.%m.%y\"\n",
    "guardian_datetime = datetime.strptime(guardian_date, guardian_format)\n",
    "print(\"The Guardian:\", guardian_datetime)\n",
    "\n",
    "# Дата для Daily News\n",
    "daily_news_date = \"Thursday, 18 August 1977\"\n",
    "daily_news_format = \"%A, %d %B %Y\"\n",
    "daily_news_datetime = datetime.strptime(daily_news_date, daily_news_format)\n",
    "print(\"Daily News:\", daily_news_datetime)\n"
   ]
  }
 ],
 "metadata": {
  "kernelspec": {
   "display_name": "Python 3 (ipykernel)",
   "language": "python",
   "name": "python3"
  },
  "language_info": {
   "codemirror_mode": {
    "name": "ipython",
    "version": 3
   },
   "file_extension": ".py",
   "mimetype": "text/x-python",
   "name": "python",
   "nbconvert_exporter": "python",
   "pygments_lexer": "ipython3",
   "version": "3.12.4"
  }
 },
 "nbformat": 4,
 "nbformat_minor": 5
}
