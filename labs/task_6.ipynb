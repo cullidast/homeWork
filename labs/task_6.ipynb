{
 "cells": [
  {
   "cell_type": "code",
   "execution_count": null,
   "id": "4e38af62-07c7-419e-93bc-16e6fe5191df",
   "metadata": {},
   "outputs": [],
   "source": [
    "import csv\n",
    "\n",
    "# Укажите путь к файлам\n",
    "input_file = \"visit_log.csv\"\n",
    "output_file = \"funnel.csv\"\n",
    "\n",
    "# Словарь для сопоставления user_id и категории покупки\n",
    "purchase_data = {}\n",
    "\n",
    "# Построчная обработка файла visit_log.csv\n",
    "with open(input_file, 'r', encoding='utf-8') as visit_log, open(output_file, 'w', encoding='utf-8', newline='') as funnel:\n",
    "    # Чтение файла\n",
    "    reader = csv.reader(visit_log)\n",
    "    writer = csv.writer(funnel)\n",
    "    \n",
    "    # Запись заголовков в новый файл\n",
    "    writer.writerow(['user_id', 'source', 'category'])\n",
    "    \n",
    "    # Пропустить заголовок входного файла\n",
    "    next(reader)\n",
    "    \n",
    "    # Построчная обработка\n",
    "    for row in reader:\n",
    "        user_id, source, category = row\n",
    "        \n",
    "        # Если категория не пустая, добавляем в выходной файл\n",
    "        if category.strip():\n",
    "            writer.writerow([user_id, source, category])\n",
    "\n"
   ]
  }
 ],
 "metadata": {
  "kernelspec": {
   "display_name": "",
   "name": ""
  },
  "language_info": {
   "name": ""
  }
 },
 "nbformat": 4,
 "nbformat_minor": 5
}
